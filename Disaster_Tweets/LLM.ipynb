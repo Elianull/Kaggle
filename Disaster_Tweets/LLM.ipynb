{
 "cells": [
  {
   "cell_type": "code",
   "execution_count": 3,
   "metadata": {},
   "outputs": [],
   "source": [
    "from transformers import AutoModelForCausalLM, AutoTokenizer\n",
    "from sklearn.metrics import accuracy_score, precision_score, recall_score, f1_score, classification_report\n",
    "import pandas as pd\n",
    "import numpy as np\n",
    "from tqdm.notebook import tqdm\n",
    "import re\n",
    "import os"
   ]
  },
  {
   "cell_type": "code",
   "execution_count": 4,
   "metadata": {},
   "outputs": [
    {
     "data": {
      "application/vnd.jupyter.widget-view+json": {
       "model_id": "b9937f10b31f4970907aea9613696755",
       "version_major": 2,
       "version_minor": 0
      },
      "text/plain": [
       "Loading checkpoint shards:   0%|          | 0/3 [00:00<?, ?it/s]"
      ]
     },
     "metadata": {},
     "output_type": "display_data"
    }
   ],
   "source": [
    "device = \"cuda\" # the device to load the model onto\n",
    "\n",
    "model = AutoModelForCausalLM.from_pretrained(\"mistralai/Mistral-7B-Instruct-v0.2\")\n",
    "tokenizer = AutoTokenizer.from_pretrained(\"mistralai/Mistral-7B-Instruct-v0.2\")"
   ]
  },
  {
   "cell_type": "code",
   "execution_count": 5,
   "metadata": {},
   "outputs": [
    {
     "name": "stdout",
     "output_type": "stream",
     "text": [
      "   id keyword location                                               text\n",
      "0   0     NaN      NaN                 Just happened a terrible car crash\n",
      "1   2     NaN      NaN  Heard about #earthquake is different cities, s...\n",
      "2   3     NaN      NaN  there is a forest fire at spot pond, geese are...\n",
      "3   9     NaN      NaN           Apocalypse lighting. #Spokane #wildfires\n",
      "4  11     NaN      NaN      Typhoon Soudelor kills 28 in China and Taiwan\n"
     ]
    }
   ],
   "source": [
    "df_train = pd.read_csv(\"data/train.csv\")\n",
    "\n",
    "df_test = pd.read_csv(\"data/test.csv\")\n",
    "\n",
    "print(df_test.head())\n",
    "\n",
    "def format_row_as_string(row):\n",
    "    row_string = f\"Tweet ID: {row['id']}, \"\n",
    "    row_string += f\"Keyword: {row['keyword'] if pd.notnull(row['keyword']) else 'N/A'}, \"\n",
    "    row_string += f\"Location: {row['location'] if pd.notnull(row['location']) else 'N/A'}, \"\n",
    "    row_string += f\"Text: {row['text']}.\"\n",
    "    return row_string\n"
   ]
  },
  {
   "cell_type": "code",
   "execution_count": 13,
   "metadata": {},
   "outputs": [],
   "source": [
    "def query(info):\n",
    "    with open('prompt2.txt', 'r') as file:\n",
    "        prompt_instructions = file.read()\n",
    "\n",
    "    messages = [\n",
    "        {\"role\": \"user\", \"content\": prompt_instructions},\n",
    "        {\"role\": \"assistant\", \"content\": \"CONFIRM\"},\n",
    "        {\"role\": \"user\", \"content\": info}\n",
    "    ]\n",
    "\n",
    "    print(messages)\n",
    "    encodeds = tokenizer.apply_chat_template(messages, return_tensors=\"pt\", padding=True, return_attention_mask=True)\n",
    "\n",
    "    model_inputs = encodeds.to(device)\n",
    "    model.to(device)\n",
    "\n",
    "    generated_ids = model.generate(model_inputs, max_new_tokens=5, do_sample=True, pad_token_id=tokenizer.eos_token_id)\n",
    "    decoded = tokenizer.batch_decode(generated_ids)\n",
    "    return decoded[0]"
   ]
  },
  {
   "cell_type": "code",
   "execution_count": 27,
   "metadata": {},
   "outputs": [
    {
     "data": {
      "application/vnd.jupyter.widget-view+json": {
       "model_id": "7bbc62ca059d4fdf823a537111929c4c",
       "version_major": 2,
       "version_minor": 0
      },
      "text/plain": [
       "Outer:   0%|          | 0/327 [00:00<?, ?it/s]"
      ]
     },
     "metadata": {},
     "output_type": "display_data"
    },
    {
     "data": {
      "application/vnd.jupyter.widget-view+json": {
       "model_id": "cb47d1e8502647d5b9402ed264842509",
       "version_major": 2,
       "version_minor": 0
      },
      "text/plain": [
       "Inner:   0%|          | 0/10 [00:00<?, ?it/s]"
      ]
     },
     "metadata": {},
     "output_type": "display_data"
    },
    {
     "data": {
      "application/vnd.jupyter.widget-view+json": {
       "model_id": "e89c31ceb07741d38d58699d648d220d",
       "version_major": 2,
       "version_minor": 0
      },
      "text/plain": [
       "Inner:   0%|          | 0/10 [00:00<?, ?it/s]"
      ]
     },
     "metadata": {},
     "output_type": "display_data"
    },
    {
     "data": {
      "application/vnd.jupyter.widget-view+json": {
       "model_id": "106b2c00a5324bad9a0532538cd6827f",
       "version_major": 2,
       "version_minor": 0
      },
      "text/plain": [
       "Inner:   0%|          | 0/10 [00:00<?, ?it/s]"
      ]
     },
     "metadata": {},
     "output_type": "display_data"
    },
    {
     "data": {
      "application/vnd.jupyter.widget-view+json": {
       "model_id": "de9b1c288e38488ca35a34712f02e0f0",
       "version_major": 2,
       "version_minor": 0
      },
      "text/plain": [
       "Inner:   0%|          | 0/10 [00:00<?, ?it/s]"
      ]
     },
     "metadata": {},
     "output_type": "display_data"
    },
    {
     "data": {
      "application/vnd.jupyter.widget-view+json": {
       "model_id": "df3d012625914b46b87ce0402457b00c",
       "version_major": 2,
       "version_minor": 0
      },
      "text/plain": [
       "Inner:   0%|          | 0/10 [00:00<?, ?it/s]"
      ]
     },
     "metadata": {},
     "output_type": "display_data"
    },
    {
     "data": {
      "application/vnd.jupyter.widget-view+json": {
       "model_id": "c36f431161ed4315b2815b375c194d69",
       "version_major": 2,
       "version_minor": 0
      },
      "text/plain": [
       "Inner:   0%|          | 0/10 [00:00<?, ?it/s]"
      ]
     },
     "metadata": {},
     "output_type": "display_data"
    },
    {
     "data": {
      "application/vnd.jupyter.widget-view+json": {
       "model_id": "81ab5f34d69945c3b67671abdf3f6503",
       "version_major": 2,
       "version_minor": 0
      },
      "text/plain": [
       "Inner:   0%|          | 0/10 [00:00<?, ?it/s]"
      ]
     },
     "metadata": {},
     "output_type": "display_data"
    },
    {
     "data": {
      "application/vnd.jupyter.widget-view+json": {
       "model_id": "a206766e852e4e029631dba5c33585d0",
       "version_major": 2,
       "version_minor": 0
      },
      "text/plain": [
       "Inner:   0%|          | 0/10 [00:00<?, ?it/s]"
      ]
     },
     "metadata": {},
     "output_type": "display_data"
    },
    {
     "data": {
      "application/vnd.jupyter.widget-view+json": {
       "model_id": "0816dec4504d409baaebcf0c9e5550bd",
       "version_major": 2,
       "version_minor": 0
      },
      "text/plain": [
       "Inner:   0%|          | 0/10 [00:00<?, ?it/s]"
      ]
     },
     "metadata": {},
     "output_type": "display_data"
    },
    {
     "data": {
      "application/vnd.jupyter.widget-view+json": {
       "model_id": "68eba97f2387471b8daa4db04c840eef",
       "version_major": 2,
       "version_minor": 0
      },
      "text/plain": [
       "Inner:   0%|          | 0/10 [00:00<?, ?it/s]"
      ]
     },
     "metadata": {},
     "output_type": "display_data"
    },
    {
     "data": {
      "application/vnd.jupyter.widget-view+json": {
       "model_id": "53dfcf49d294431aba357ed61b5d4ed6",
       "version_major": 2,
       "version_minor": 0
      },
      "text/plain": [
       "Inner:   0%|          | 0/10 [00:00<?, ?it/s]"
      ]
     },
     "metadata": {},
     "output_type": "display_data"
    },
    {
     "data": {
      "application/vnd.jupyter.widget-view+json": {
       "model_id": "62382c7dc6c546609a9d0ec6e7ed578f",
       "version_major": 2,
       "version_minor": 0
      },
      "text/plain": [
       "Inner:   0%|          | 0/10 [00:00<?, ?it/s]"
      ]
     },
     "metadata": {},
     "output_type": "display_data"
    },
    {
     "data": {
      "application/vnd.jupyter.widget-view+json": {
       "model_id": "c6a3d21b556f49de9cb1a491ac88e3c2",
       "version_major": 2,
       "version_minor": 0
      },
      "text/plain": [
       "Inner:   0%|          | 0/10 [00:00<?, ?it/s]"
      ]
     },
     "metadata": {},
     "output_type": "display_data"
    },
    {
     "data": {
      "application/vnd.jupyter.widget-view+json": {
       "model_id": "5c4bddd890d44b4f9d199dcc454ad1e2",
       "version_major": 2,
       "version_minor": 0
      },
      "text/plain": [
       "Inner:   0%|          | 0/10 [00:00<?, ?it/s]"
      ]
     },
     "metadata": {},
     "output_type": "display_data"
    },
    {
     "data": {
      "application/vnd.jupyter.widget-view+json": {
       "model_id": "2ebdd3c48b154a4e8667b62f6225467d",
       "version_major": 2,
       "version_minor": 0
      },
      "text/plain": [
       "Inner:   0%|          | 0/10 [00:00<?, ?it/s]"
      ]
     },
     "metadata": {},
     "output_type": "display_data"
    },
    {
     "data": {
      "application/vnd.jupyter.widget-view+json": {
       "model_id": "4e11a0fa0419419db2a959122204b181",
       "version_major": 2,
       "version_minor": 0
      },
      "text/plain": [
       "Inner:   0%|          | 0/10 [00:00<?, ?it/s]"
      ]
     },
     "metadata": {},
     "output_type": "display_data"
    },
    {
     "data": {
      "application/vnd.jupyter.widget-view+json": {
       "model_id": "d92f0030c9274406b5c15ad29704d7fa",
       "version_major": 2,
       "version_minor": 0
      },
      "text/plain": [
       "Inner:   0%|          | 0/10 [00:00<?, ?it/s]"
      ]
     },
     "metadata": {},
     "output_type": "display_data"
    },
    {
     "data": {
      "application/vnd.jupyter.widget-view+json": {
       "model_id": "ba9a8abbf46c41f89e466616060ae6dd",
       "version_major": 2,
       "version_minor": 0
      },
      "text/plain": [
       "Inner:   0%|          | 0/10 [00:00<?, ?it/s]"
      ]
     },
     "metadata": {},
     "output_type": "display_data"
    },
    {
     "data": {
      "application/vnd.jupyter.widget-view+json": {
       "model_id": "d8f245dddea84e8e9162e11a20d7a036",
       "version_major": 2,
       "version_minor": 0
      },
      "text/plain": [
       "Inner:   0%|          | 0/10 [00:00<?, ?it/s]"
      ]
     },
     "metadata": {},
     "output_type": "display_data"
    },
    {
     "data": {
      "application/vnd.jupyter.widget-view+json": {
       "model_id": "c598009ff2a5428e9141d9d0715afcdd",
       "version_major": 2,
       "version_minor": 0
      },
      "text/plain": [
       "Inner:   0%|          | 0/10 [00:00<?, ?it/s]"
      ]
     },
     "metadata": {},
     "output_type": "display_data"
    },
    {
     "data": {
      "application/vnd.jupyter.widget-view+json": {
       "model_id": "8cd3249c47ea476199bdd79a845e49b7",
       "version_major": 2,
       "version_minor": 0
      },
      "text/plain": [
       "Inner:   0%|          | 0/10 [00:00<?, ?it/s]"
      ]
     },
     "metadata": {},
     "output_type": "display_data"
    },
    {
     "data": {
      "application/vnd.jupyter.widget-view+json": {
       "model_id": "3f6a609e0e4e458fb2f537c9c7248809",
       "version_major": 2,
       "version_minor": 0
      },
      "text/plain": [
       "Inner:   0%|          | 0/10 [00:00<?, ?it/s]"
      ]
     },
     "metadata": {},
     "output_type": "display_data"
    },
    {
     "data": {
      "application/vnd.jupyter.widget-view+json": {
       "model_id": "e41cd634ed6146e1b48dba95f252622e",
       "version_major": 2,
       "version_minor": 0
      },
      "text/plain": [
       "Inner:   0%|          | 0/10 [00:00<?, ?it/s]"
      ]
     },
     "metadata": {},
     "output_type": "display_data"
    },
    {
     "data": {
      "application/vnd.jupyter.widget-view+json": {
       "model_id": "44d8318b9dd342f9b9248f13e2427e7d",
       "version_major": 2,
       "version_minor": 0
      },
      "text/plain": [
       "Inner:   0%|          | 0/10 [00:00<?, ?it/s]"
      ]
     },
     "metadata": {},
     "output_type": "display_data"
    },
    {
     "data": {
      "application/vnd.jupyter.widget-view+json": {
       "model_id": "a727b0ecd2d54e3a96a448829f54f73b",
       "version_major": 2,
       "version_minor": 0
      },
      "text/plain": [
       "Inner:   0%|          | 0/10 [00:00<?, ?it/s]"
      ]
     },
     "metadata": {},
     "output_type": "display_data"
    },
    {
     "data": {
      "application/vnd.jupyter.widget-view+json": {
       "model_id": "db9da0a0e9d2497e8b6d789f23220863",
       "version_major": 2,
       "version_minor": 0
      },
      "text/plain": [
       "Inner:   0%|          | 0/10 [00:00<?, ?it/s]"
      ]
     },
     "metadata": {},
     "output_type": "display_data"
    },
    {
     "data": {
      "application/vnd.jupyter.widget-view+json": {
       "model_id": "a0c499162b03491bac9c36625775293d",
       "version_major": 2,
       "version_minor": 0
      },
      "text/plain": [
       "Inner:   0%|          | 0/10 [00:00<?, ?it/s]"
      ]
     },
     "metadata": {},
     "output_type": "display_data"
    },
    {
     "data": {
      "application/vnd.jupyter.widget-view+json": {
       "model_id": "74496444bcb1491a833a256eebacbba6",
       "version_major": 2,
       "version_minor": 0
      },
      "text/plain": [
       "Inner:   0%|          | 0/10 [00:00<?, ?it/s]"
      ]
     },
     "metadata": {},
     "output_type": "display_data"
    },
    {
     "data": {
      "application/vnd.jupyter.widget-view+json": {
       "model_id": "6e88ee91b94e4410bdeacdde1926cace",
       "version_major": 2,
       "version_minor": 0
      },
      "text/plain": [
       "Inner:   0%|          | 0/10 [00:00<?, ?it/s]"
      ]
     },
     "metadata": {},
     "output_type": "display_data"
    },
    {
     "data": {
      "application/vnd.jupyter.widget-view+json": {
       "model_id": "dbbff6e57a634344bf480bdf22049ce9",
       "version_major": 2,
       "version_minor": 0
      },
      "text/plain": [
       "Inner:   0%|          | 0/10 [00:00<?, ?it/s]"
      ]
     },
     "metadata": {},
     "output_type": "display_data"
    },
    {
     "data": {
      "application/vnd.jupyter.widget-view+json": {
       "model_id": "b745a3d48a07418bbcd1be28b2b11f1c",
       "version_major": 2,
       "version_minor": 0
      },
      "text/plain": [
       "Inner:   0%|          | 0/10 [00:00<?, ?it/s]"
      ]
     },
     "metadata": {},
     "output_type": "display_data"
    },
    {
     "data": {
      "application/vnd.jupyter.widget-view+json": {
       "model_id": "0815ac95de994f23a723692cca015d5a",
       "version_major": 2,
       "version_minor": 0
      },
      "text/plain": [
       "Inner:   0%|          | 0/10 [00:00<?, ?it/s]"
      ]
     },
     "metadata": {},
     "output_type": "display_data"
    },
    {
     "data": {
      "application/vnd.jupyter.widget-view+json": {
       "model_id": "03c8e1b31f344b3786be80f03b78be97",
       "version_major": 2,
       "version_minor": 0
      },
      "text/plain": [
       "Inner:   0%|          | 0/10 [00:00<?, ?it/s]"
      ]
     },
     "metadata": {},
     "output_type": "display_data"
    },
    {
     "data": {
      "application/vnd.jupyter.widget-view+json": {
       "model_id": "1c853b5c6f7e42d7a15f4be8bf1d3b79",
       "version_major": 2,
       "version_minor": 0
      },
      "text/plain": [
       "Inner:   0%|          | 0/10 [00:00<?, ?it/s]"
      ]
     },
     "metadata": {},
     "output_type": "display_data"
    },
    {
     "data": {
      "application/vnd.jupyter.widget-view+json": {
       "model_id": "c4377b6116544a469392395be6871a16",
       "version_major": 2,
       "version_minor": 0
      },
      "text/plain": [
       "Inner:   0%|          | 0/10 [00:00<?, ?it/s]"
      ]
     },
     "metadata": {},
     "output_type": "display_data"
    },
    {
     "data": {
      "application/vnd.jupyter.widget-view+json": {
       "model_id": "121e7b4293ab419eb4ce412b4c48c305",
       "version_major": 2,
       "version_minor": 0
      },
      "text/plain": [
       "Inner:   0%|          | 0/10 [00:00<?, ?it/s]"
      ]
     },
     "metadata": {},
     "output_type": "display_data"
    },
    {
     "data": {
      "application/vnd.jupyter.widget-view+json": {
       "model_id": "dd72e3f1239947e7aadeb0925eccfcca",
       "version_major": 2,
       "version_minor": 0
      },
      "text/plain": [
       "Inner:   0%|          | 0/10 [00:00<?, ?it/s]"
      ]
     },
     "metadata": {},
     "output_type": "display_data"
    },
    {
     "data": {
      "application/vnd.jupyter.widget-view+json": {
       "model_id": "88aaed7df33e49c6babde9dc320938b1",
       "version_major": 2,
       "version_minor": 0
      },
      "text/plain": [
       "Inner:   0%|          | 0/10 [00:00<?, ?it/s]"
      ]
     },
     "metadata": {},
     "output_type": "display_data"
    },
    {
     "data": {
      "application/vnd.jupyter.widget-view+json": {
       "model_id": "02a0e1e07d094a599582ff095c2e89ef",
       "version_major": 2,
       "version_minor": 0
      },
      "text/plain": [
       "Inner:   0%|          | 0/10 [00:00<?, ?it/s]"
      ]
     },
     "metadata": {},
     "output_type": "display_data"
    },
    {
     "data": {
      "application/vnd.jupyter.widget-view+json": {
       "model_id": "ac8db3f325bd40c49e41a6d6886ff002",
       "version_major": 2,
       "version_minor": 0
      },
      "text/plain": [
       "Inner:   0%|          | 0/10 [00:00<?, ?it/s]"
      ]
     },
     "metadata": {},
     "output_type": "display_data"
    },
    {
     "data": {
      "application/vnd.jupyter.widget-view+json": {
       "model_id": "8ce46eb2235b46cba5f50b2dbc00733a",
       "version_major": 2,
       "version_minor": 0
      },
      "text/plain": [
       "Inner:   0%|          | 0/10 [00:00<?, ?it/s]"
      ]
     },
     "metadata": {},
     "output_type": "display_data"
    },
    {
     "data": {
      "application/vnd.jupyter.widget-view+json": {
       "model_id": "058153a820a34847b66abbccb8325912",
       "version_major": 2,
       "version_minor": 0
      },
      "text/plain": [
       "Inner:   0%|          | 0/10 [00:00<?, ?it/s]"
      ]
     },
     "metadata": {},
     "output_type": "display_data"
    },
    {
     "data": {
      "application/vnd.jupyter.widget-view+json": {
       "model_id": "889ffe643ae443a49810e97fe730f0ca",
       "version_major": 2,
       "version_minor": 0
      },
      "text/plain": [
       "Inner:   0%|          | 0/10 [00:00<?, ?it/s]"
      ]
     },
     "metadata": {},
     "output_type": "display_data"
    },
    {
     "data": {
      "application/vnd.jupyter.widget-view+json": {
       "model_id": "facbe19b2a9a423aa492a761ae563420",
       "version_major": 2,
       "version_minor": 0
      },
      "text/plain": [
       "Inner:   0%|          | 0/10 [00:00<?, ?it/s]"
      ]
     },
     "metadata": {},
     "output_type": "display_data"
    },
    {
     "data": {
      "application/vnd.jupyter.widget-view+json": {
       "model_id": "8b3604bd4fa146a39ce60fe093d72dd6",
       "version_major": 2,
       "version_minor": 0
      },
      "text/plain": [
       "Inner:   0%|          | 0/10 [00:00<?, ?it/s]"
      ]
     },
     "metadata": {},
     "output_type": "display_data"
    },
    {
     "data": {
      "application/vnd.jupyter.widget-view+json": {
       "model_id": "bfc4fdbb2cd245f68bc2efad9d0b27d5",
       "version_major": 2,
       "version_minor": 0
      },
      "text/plain": [
       "Inner:   0%|          | 0/10 [00:00<?, ?it/s]"
      ]
     },
     "metadata": {},
     "output_type": "display_data"
    },
    {
     "data": {
      "application/vnd.jupyter.widget-view+json": {
       "model_id": "0b0e093f0afe4ea0b845df44eb23912a",
       "version_major": 2,
       "version_minor": 0
      },
      "text/plain": [
       "Inner:   0%|          | 0/10 [00:00<?, ?it/s]"
      ]
     },
     "metadata": {},
     "output_type": "display_data"
    },
    {
     "data": {
      "application/vnd.jupyter.widget-view+json": {
       "model_id": "78da7d308fdb4dd58f3de2f0175a28b7",
       "version_major": 2,
       "version_minor": 0
      },
      "text/plain": [
       "Inner:   0%|          | 0/10 [00:00<?, ?it/s]"
      ]
     },
     "metadata": {},
     "output_type": "display_data"
    },
    {
     "data": {
      "application/vnd.jupyter.widget-view+json": {
       "model_id": "7bf6dfdaa56140c9879dee9d10ec251e",
       "version_major": 2,
       "version_minor": 0
      },
      "text/plain": [
       "Inner:   0%|          | 0/10 [00:00<?, ?it/s]"
      ]
     },
     "metadata": {},
     "output_type": "display_data"
    },
    {
     "data": {
      "application/vnd.jupyter.widget-view+json": {
       "model_id": "c5c4edc203a14daaa022e86ea3d6eab2",
       "version_major": 2,
       "version_minor": 0
      },
      "text/plain": [
       "Inner:   0%|          | 0/10 [00:00<?, ?it/s]"
      ]
     },
     "metadata": {},
     "output_type": "display_data"
    },
    {
     "data": {
      "application/vnd.jupyter.widget-view+json": {
       "model_id": "d9c0777e93294c72b69d131d337c4a11",
       "version_major": 2,
       "version_minor": 0
      },
      "text/plain": [
       "Inner:   0%|          | 0/10 [00:00<?, ?it/s]"
      ]
     },
     "metadata": {},
     "output_type": "display_data"
    },
    {
     "data": {
      "application/vnd.jupyter.widget-view+json": {
       "model_id": "a1fb036dd4624c7b84644951a7d50ba1",
       "version_major": 2,
       "version_minor": 0
      },
      "text/plain": [
       "Inner:   0%|          | 0/10 [00:00<?, ?it/s]"
      ]
     },
     "metadata": {},
     "output_type": "display_data"
    },
    {
     "data": {
      "application/vnd.jupyter.widget-view+json": {
       "model_id": "0dbf51aaaf1d47f1bd81cb6ea64c7aa9",
       "version_major": 2,
       "version_minor": 0
      },
      "text/plain": [
       "Inner:   0%|          | 0/10 [00:00<?, ?it/s]"
      ]
     },
     "metadata": {},
     "output_type": "display_data"
    },
    {
     "data": {
      "application/vnd.jupyter.widget-view+json": {
       "model_id": "84ca6a51523f42b3a3ffe7e795863bfa",
       "version_major": 2,
       "version_minor": 0
      },
      "text/plain": [
       "Inner:   0%|          | 0/10 [00:00<?, ?it/s]"
      ]
     },
     "metadata": {},
     "output_type": "display_data"
    },
    {
     "data": {
      "application/vnd.jupyter.widget-view+json": {
       "model_id": "f549c9b989f94614bf7ee98412e48d82",
       "version_major": 2,
       "version_minor": 0
      },
      "text/plain": [
       "Inner:   0%|          | 0/10 [00:00<?, ?it/s]"
      ]
     },
     "metadata": {},
     "output_type": "display_data"
    },
    {
     "data": {
      "application/vnd.jupyter.widget-view+json": {
       "model_id": "a99ca1d25ef1430d9bbda4dd4a7907df",
       "version_major": 2,
       "version_minor": 0
      },
      "text/plain": [
       "Inner:   0%|          | 0/10 [00:00<?, ?it/s]"
      ]
     },
     "metadata": {},
     "output_type": "display_data"
    },
    {
     "data": {
      "application/vnd.jupyter.widget-view+json": {
       "model_id": "06a8eaeeaf434261910b280d11801d12",
       "version_major": 2,
       "version_minor": 0
      },
      "text/plain": [
       "Inner:   0%|          | 0/10 [00:00<?, ?it/s]"
      ]
     },
     "metadata": {},
     "output_type": "display_data"
    },
    {
     "data": {
      "application/vnd.jupyter.widget-view+json": {
       "model_id": "2606904a00e24d9e81b35192769942ca",
       "version_major": 2,
       "version_minor": 0
      },
      "text/plain": [
       "Inner:   0%|          | 0/10 [00:00<?, ?it/s]"
      ]
     },
     "metadata": {},
     "output_type": "display_data"
    },
    {
     "data": {
      "application/vnd.jupyter.widget-view+json": {
       "model_id": "3302918a95114496af1c83ddf4bfe0dd",
       "version_major": 2,
       "version_minor": 0
      },
      "text/plain": [
       "Inner:   0%|          | 0/10 [00:00<?, ?it/s]"
      ]
     },
     "metadata": {},
     "output_type": "display_data"
    },
    {
     "data": {
      "application/vnd.jupyter.widget-view+json": {
       "model_id": "6065a12463c24933a22766c1033e1018",
       "version_major": 2,
       "version_minor": 0
      },
      "text/plain": [
       "Inner:   0%|          | 0/10 [00:00<?, ?it/s]"
      ]
     },
     "metadata": {},
     "output_type": "display_data"
    },
    {
     "data": {
      "application/vnd.jupyter.widget-view+json": {
       "model_id": "2c5064baedfc4aaca704b9682d795126",
       "version_major": 2,
       "version_minor": 0
      },
      "text/plain": [
       "Inner:   0%|          | 0/10 [00:00<?, ?it/s]"
      ]
     },
     "metadata": {},
     "output_type": "display_data"
    },
    {
     "data": {
      "application/vnd.jupyter.widget-view+json": {
       "model_id": "f8059705c927482dada77f2422094f9b",
       "version_major": 2,
       "version_minor": 0
      },
      "text/plain": [
       "Inner:   0%|          | 0/10 [00:00<?, ?it/s]"
      ]
     },
     "metadata": {},
     "output_type": "display_data"
    },
    {
     "data": {
      "application/vnd.jupyter.widget-view+json": {
       "model_id": "514921e220ae4f79a4afc39a37e4ad82",
       "version_major": 2,
       "version_minor": 0
      },
      "text/plain": [
       "Inner:   0%|          | 0/10 [00:00<?, ?it/s]"
      ]
     },
     "metadata": {},
     "output_type": "display_data"
    },
    {
     "data": {
      "application/vnd.jupyter.widget-view+json": {
       "model_id": "b9ee666e9e4f4bd797ee744d0e27b959",
       "version_major": 2,
       "version_minor": 0
      },
      "text/plain": [
       "Inner:   0%|          | 0/10 [00:00<?, ?it/s]"
      ]
     },
     "metadata": {},
     "output_type": "display_data"
    },
    {
     "data": {
      "application/vnd.jupyter.widget-view+json": {
       "model_id": "648f6f45ea3847a5a289b84b9414c832",
       "version_major": 2,
       "version_minor": 0
      },
      "text/plain": [
       "Inner:   0%|          | 0/10 [00:00<?, ?it/s]"
      ]
     },
     "metadata": {},
     "output_type": "display_data"
    },
    {
     "data": {
      "application/vnd.jupyter.widget-view+json": {
       "model_id": "76b5d7139c7146228bdf7c0c78b2d826",
       "version_major": 2,
       "version_minor": 0
      },
      "text/plain": [
       "Inner:   0%|          | 0/10 [00:00<?, ?it/s]"
      ]
     },
     "metadata": {},
     "output_type": "display_data"
    },
    {
     "data": {
      "application/vnd.jupyter.widget-view+json": {
       "model_id": "908af9f083e740c49bbbd9e40b8fd2bd",
       "version_major": 2,
       "version_minor": 0
      },
      "text/plain": [
       "Inner:   0%|          | 0/10 [00:00<?, ?it/s]"
      ]
     },
     "metadata": {},
     "output_type": "display_data"
    },
    {
     "data": {
      "application/vnd.jupyter.widget-view+json": {
       "model_id": "fd0de616348143a5898d313a09c235da",
       "version_major": 2,
       "version_minor": 0
      },
      "text/plain": [
       "Inner:   0%|          | 0/10 [00:00<?, ?it/s]"
      ]
     },
     "metadata": {},
     "output_type": "display_data"
    },
    {
     "data": {
      "application/vnd.jupyter.widget-view+json": {
       "model_id": "9b73df3379bb40d2a2eb6302335111b7",
       "version_major": 2,
       "version_minor": 0
      },
      "text/plain": [
       "Inner:   0%|          | 0/10 [00:00<?, ?it/s]"
      ]
     },
     "metadata": {},
     "output_type": "display_data"
    },
    {
     "data": {
      "application/vnd.jupyter.widget-view+json": {
       "model_id": "eb5bfc1b8ba44e2bb6136e4806c66334",
       "version_major": 2,
       "version_minor": 0
      },
      "text/plain": [
       "Inner:   0%|          | 0/10 [00:00<?, ?it/s]"
      ]
     },
     "metadata": {},
     "output_type": "display_data"
    },
    {
     "data": {
      "application/vnd.jupyter.widget-view+json": {
       "model_id": "62526b7e2de741829cb469e4f2faeff5",
       "version_major": 2,
       "version_minor": 0
      },
      "text/plain": [
       "Inner:   0%|          | 0/10 [00:00<?, ?it/s]"
      ]
     },
     "metadata": {},
     "output_type": "display_data"
    },
    {
     "data": {
      "application/vnd.jupyter.widget-view+json": {
       "model_id": "5bd5f0f0d88f4f3084be8abe1b9be170",
       "version_major": 2,
       "version_minor": 0
      },
      "text/plain": [
       "Inner:   0%|          | 0/10 [00:00<?, ?it/s]"
      ]
     },
     "metadata": {},
     "output_type": "display_data"
    },
    {
     "data": {
      "application/vnd.jupyter.widget-view+json": {
       "model_id": "13406ca0965d47058827e493ef9810b0",
       "version_major": 2,
       "version_minor": 0
      },
      "text/plain": [
       "Inner:   0%|          | 0/10 [00:00<?, ?it/s]"
      ]
     },
     "metadata": {},
     "output_type": "display_data"
    },
    {
     "data": {
      "application/vnd.jupyter.widget-view+json": {
       "model_id": "93b57cfb908b4655b07534d1b9c611b4",
       "version_major": 2,
       "version_minor": 0
      },
      "text/plain": [
       "Inner:   0%|          | 0/10 [00:00<?, ?it/s]"
      ]
     },
     "metadata": {},
     "output_type": "display_data"
    },
    {
     "data": {
      "application/vnd.jupyter.widget-view+json": {
       "model_id": "cf5736ab4fcf4f3fa5fc8f00be280e09",
       "version_major": 2,
       "version_minor": 0
      },
      "text/plain": [
       "Inner:   0%|          | 0/10 [00:00<?, ?it/s]"
      ]
     },
     "metadata": {},
     "output_type": "display_data"
    },
    {
     "data": {
      "application/vnd.jupyter.widget-view+json": {
       "model_id": "24eb4b73f91d4190a3a15b761721ac04",
       "version_major": 2,
       "version_minor": 0
      },
      "text/plain": [
       "Inner:   0%|          | 0/10 [00:00<?, ?it/s]"
      ]
     },
     "metadata": {},
     "output_type": "display_data"
    },
    {
     "data": {
      "application/vnd.jupyter.widget-view+json": {
       "model_id": "95ee0146d32141c482209bd405542ace",
       "version_major": 2,
       "version_minor": 0
      },
      "text/plain": [
       "Inner:   0%|          | 0/10 [00:00<?, ?it/s]"
      ]
     },
     "metadata": {},
     "output_type": "display_data"
    },
    {
     "data": {
      "application/vnd.jupyter.widget-view+json": {
       "model_id": "96d98be6174e40029842f42afe4f3e4a",
       "version_major": 2,
       "version_minor": 0
      },
      "text/plain": [
       "Inner:   0%|          | 0/10 [00:00<?, ?it/s]"
      ]
     },
     "metadata": {},
     "output_type": "display_data"
    },
    {
     "data": {
      "application/vnd.jupyter.widget-view+json": {
       "model_id": "3612a68e440743c4aa50c29393323717",
       "version_major": 2,
       "version_minor": 0
      },
      "text/plain": [
       "Inner:   0%|          | 0/10 [00:00<?, ?it/s]"
      ]
     },
     "metadata": {},
     "output_type": "display_data"
    },
    {
     "data": {
      "application/vnd.jupyter.widget-view+json": {
       "model_id": "9234f3ef519a4d0a8c5639f08c30d14a",
       "version_major": 2,
       "version_minor": 0
      },
      "text/plain": [
       "Inner:   0%|          | 0/10 [00:00<?, ?it/s]"
      ]
     },
     "metadata": {},
     "output_type": "display_data"
    },
    {
     "data": {
      "application/vnd.jupyter.widget-view+json": {
       "model_id": "a0e634ae81d544ac8ddedf5e45123723",
       "version_major": 2,
       "version_minor": 0
      },
      "text/plain": [
       "Inner:   0%|          | 0/10 [00:00<?, ?it/s]"
      ]
     },
     "metadata": {},
     "output_type": "display_data"
    },
    {
     "data": {
      "application/vnd.jupyter.widget-view+json": {
       "model_id": "8aea1c947c60443a9e8f4fb0f8d372a1",
       "version_major": 2,
       "version_minor": 0
      },
      "text/plain": [
       "Inner:   0%|          | 0/10 [00:00<?, ?it/s]"
      ]
     },
     "metadata": {},
     "output_type": "display_data"
    },
    {
     "data": {
      "application/vnd.jupyter.widget-view+json": {
       "model_id": "92cb2726dcc848d0b8ee96eeba98b027",
       "version_major": 2,
       "version_minor": 0
      },
      "text/plain": [
       "Inner:   0%|          | 0/10 [00:00<?, ?it/s]"
      ]
     },
     "metadata": {},
     "output_type": "display_data"
    },
    {
     "data": {
      "application/vnd.jupyter.widget-view+json": {
       "model_id": "2e0877b6dbce4523a3174f9fbcc54e16",
       "version_major": 2,
       "version_minor": 0
      },
      "text/plain": [
       "Inner:   0%|          | 0/10 [00:00<?, ?it/s]"
      ]
     },
     "metadata": {},
     "output_type": "display_data"
    },
    {
     "data": {
      "application/vnd.jupyter.widget-view+json": {
       "model_id": "911739a8a5af4eb3a9dce1e17fb5837c",
       "version_major": 2,
       "version_minor": 0
      },
      "text/plain": [
       "Inner:   0%|          | 0/10 [00:00<?, ?it/s]"
      ]
     },
     "metadata": {},
     "output_type": "display_data"
    },
    {
     "data": {
      "application/vnd.jupyter.widget-view+json": {
       "model_id": "ecefe7679b0044f187e773656797622a",
       "version_major": 2,
       "version_minor": 0
      },
      "text/plain": [
       "Inner:   0%|          | 0/10 [00:00<?, ?it/s]"
      ]
     },
     "metadata": {},
     "output_type": "display_data"
    },
    {
     "data": {
      "application/vnd.jupyter.widget-view+json": {
       "model_id": "7cf2d6d96af04f86bcb39aeb4bde5af8",
       "version_major": 2,
       "version_minor": 0
      },
      "text/plain": [
       "Inner:   0%|          | 0/10 [00:00<?, ?it/s]"
      ]
     },
     "metadata": {},
     "output_type": "display_data"
    },
    {
     "data": {
      "application/vnd.jupyter.widget-view+json": {
       "model_id": "7bd22c96df6c439595ac7e5913b2c17b",
       "version_major": 2,
       "version_minor": 0
      },
      "text/plain": [
       "Inner:   0%|          | 0/10 [00:00<?, ?it/s]"
      ]
     },
     "metadata": {},
     "output_type": "display_data"
    },
    {
     "data": {
      "application/vnd.jupyter.widget-view+json": {
       "model_id": "be7e05e9abf94d58b70329bc72841338",
       "version_major": 2,
       "version_minor": 0
      },
      "text/plain": [
       "Inner:   0%|          | 0/10 [00:00<?, ?it/s]"
      ]
     },
     "metadata": {},
     "output_type": "display_data"
    },
    {
     "data": {
      "application/vnd.jupyter.widget-view+json": {
       "model_id": "e344b608f166442699b887ba1edbab6b",
       "version_major": 2,
       "version_minor": 0
      },
      "text/plain": [
       "Inner:   0%|          | 0/10 [00:00<?, ?it/s]"
      ]
     },
     "metadata": {},
     "output_type": "display_data"
    },
    {
     "data": {
      "application/vnd.jupyter.widget-view+json": {
       "model_id": "7259f2ec3169448fb4f6dd9777663d4d",
       "version_major": 2,
       "version_minor": 0
      },
      "text/plain": [
       "Inner:   0%|          | 0/10 [00:00<?, ?it/s]"
      ]
     },
     "metadata": {},
     "output_type": "display_data"
    },
    {
     "data": {
      "application/vnd.jupyter.widget-view+json": {
       "model_id": "9e010df4b3b644ac942040f7d82d5629",
       "version_major": 2,
       "version_minor": 0
      },
      "text/plain": [
       "Inner:   0%|          | 0/10 [00:00<?, ?it/s]"
      ]
     },
     "metadata": {},
     "output_type": "display_data"
    },
    {
     "data": {
      "application/vnd.jupyter.widget-view+json": {
       "model_id": "f9a9d796c4a74b5982e5b6722d40c7ba",
       "version_major": 2,
       "version_minor": 0
      },
      "text/plain": [
       "Inner:   0%|          | 0/10 [00:00<?, ?it/s]"
      ]
     },
     "metadata": {},
     "output_type": "display_data"
    },
    {
     "data": {
      "application/vnd.jupyter.widget-view+json": {
       "model_id": "e19d6893ca144c82a8a57e7306cb9a6d",
       "version_major": 2,
       "version_minor": 0
      },
      "text/plain": [
       "Inner:   0%|          | 0/10 [00:00<?, ?it/s]"
      ]
     },
     "metadata": {},
     "output_type": "display_data"
    },
    {
     "data": {
      "application/vnd.jupyter.widget-view+json": {
       "model_id": "ad91db69c3224958b95dbd7c35406e87",
       "version_major": 2,
       "version_minor": 0
      },
      "text/plain": [
       "Inner:   0%|          | 0/10 [00:00<?, ?it/s]"
      ]
     },
     "metadata": {},
     "output_type": "display_data"
    },
    {
     "data": {
      "application/vnd.jupyter.widget-view+json": {
       "model_id": "dbe69da39a36494ca3f93d85d6fd47ef",
       "version_major": 2,
       "version_minor": 0
      },
      "text/plain": [
       "Inner:   0%|          | 0/10 [00:00<?, ?it/s]"
      ]
     },
     "metadata": {},
     "output_type": "display_data"
    },
    {
     "data": {
      "application/vnd.jupyter.widget-view+json": {
       "model_id": "5da4f2acb97b4dcf87c459ac043f8106",
       "version_major": 2,
       "version_minor": 0
      },
      "text/plain": [
       "Inner:   0%|          | 0/10 [00:00<?, ?it/s]"
      ]
     },
     "metadata": {},
     "output_type": "display_data"
    },
    {
     "data": {
      "application/vnd.jupyter.widget-view+json": {
       "model_id": "8fe84ab2c2e941829b33d5512bc1ea16",
       "version_major": 2,
       "version_minor": 0
      },
      "text/plain": [
       "Inner:   0%|          | 0/10 [00:00<?, ?it/s]"
      ]
     },
     "metadata": {},
     "output_type": "display_data"
    },
    {
     "data": {
      "application/vnd.jupyter.widget-view+json": {
       "model_id": "9468a0ef10dd4267bba4fb6614a96ef8",
       "version_major": 2,
       "version_minor": 0
      },
      "text/plain": [
       "Inner:   0%|          | 0/10 [00:00<?, ?it/s]"
      ]
     },
     "metadata": {},
     "output_type": "display_data"
    },
    {
     "data": {
      "application/vnd.jupyter.widget-view+json": {
       "model_id": "03e281175c7744ada1ec8dbc6b6d5245",
       "version_major": 2,
       "version_minor": 0
      },
      "text/plain": [
       "Inner:   0%|          | 0/10 [00:00<?, ?it/s]"
      ]
     },
     "metadata": {},
     "output_type": "display_data"
    },
    {
     "data": {
      "application/vnd.jupyter.widget-view+json": {
       "model_id": "fdf8056dda874200a3dc336d69d918f8",
       "version_major": 2,
       "version_minor": 0
      },
      "text/plain": [
       "Inner:   0%|          | 0/10 [00:00<?, ?it/s]"
      ]
     },
     "metadata": {},
     "output_type": "display_data"
    },
    {
     "data": {
      "application/vnd.jupyter.widget-view+json": {
       "model_id": "235c6b5aaaa14c0182dfc7c40c74ab90",
       "version_major": 2,
       "version_minor": 0
      },
      "text/plain": [
       "Inner:   0%|          | 0/10 [00:00<?, ?it/s]"
      ]
     },
     "metadata": {},
     "output_type": "display_data"
    },
    {
     "data": {
      "application/vnd.jupyter.widget-view+json": {
       "model_id": "699e16bd4f704e44801449c528751485",
       "version_major": 2,
       "version_minor": 0
      },
      "text/plain": [
       "Inner:   0%|          | 0/10 [00:00<?, ?it/s]"
      ]
     },
     "metadata": {},
     "output_type": "display_data"
    },
    {
     "data": {
      "application/vnd.jupyter.widget-view+json": {
       "model_id": "782cb6f876d24989bac74b159201aab7",
       "version_major": 2,
       "version_minor": 0
      },
      "text/plain": [
       "Inner:   0%|          | 0/10 [00:00<?, ?it/s]"
      ]
     },
     "metadata": {},
     "output_type": "display_data"
    },
    {
     "data": {
      "application/vnd.jupyter.widget-view+json": {
       "model_id": "b5cd9abac15e4090a1f22a6d83bca71d",
       "version_major": 2,
       "version_minor": 0
      },
      "text/plain": [
       "Inner:   0%|          | 0/10 [00:00<?, ?it/s]"
      ]
     },
     "metadata": {},
     "output_type": "display_data"
    },
    {
     "data": {
      "application/vnd.jupyter.widget-view+json": {
       "model_id": "bd44102f7367498795666ec13db7e46d",
       "version_major": 2,
       "version_minor": 0
      },
      "text/plain": [
       "Inner:   0%|          | 0/10 [00:00<?, ?it/s]"
      ]
     },
     "metadata": {},
     "output_type": "display_data"
    },
    {
     "data": {
      "application/vnd.jupyter.widget-view+json": {
       "model_id": "c4fc99d3447b415ca88ab1490c218b63",
       "version_major": 2,
       "version_minor": 0
      },
      "text/plain": [
       "Inner:   0%|          | 0/10 [00:00<?, ?it/s]"
      ]
     },
     "metadata": {},
     "output_type": "display_data"
    },
    {
     "data": {
      "application/vnd.jupyter.widget-view+json": {
       "model_id": "7b0f59b76993445180a8608b061cb78c",
       "version_major": 2,
       "version_minor": 0
      },
      "text/plain": [
       "Inner:   0%|          | 0/10 [00:00<?, ?it/s]"
      ]
     },
     "metadata": {},
     "output_type": "display_data"
    },
    {
     "data": {
      "application/vnd.jupyter.widget-view+json": {
       "model_id": "a7ce56b7aa4b46ef9a073bcb60ece6d4",
       "version_major": 2,
       "version_minor": 0
      },
      "text/plain": [
       "Inner:   0%|          | 0/10 [00:00<?, ?it/s]"
      ]
     },
     "metadata": {},
     "output_type": "display_data"
    },
    {
     "data": {
      "application/vnd.jupyter.widget-view+json": {
       "model_id": "e43d59165ce7496d875f197e73bb1600",
       "version_major": 2,
       "version_minor": 0
      },
      "text/plain": [
       "Inner:   0%|          | 0/10 [00:00<?, ?it/s]"
      ]
     },
     "metadata": {},
     "output_type": "display_data"
    },
    {
     "data": {
      "application/vnd.jupyter.widget-view+json": {
       "model_id": "cbf8b6f53c5f4a2583b0aa1ad466a26b",
       "version_major": 2,
       "version_minor": 0
      },
      "text/plain": [
       "Inner:   0%|          | 0/10 [00:00<?, ?it/s]"
      ]
     },
     "metadata": {},
     "output_type": "display_data"
    },
    {
     "data": {
      "application/vnd.jupyter.widget-view+json": {
       "model_id": "b7b1b289911c4a3ebc2e773aa7aa11c2",
       "version_major": 2,
       "version_minor": 0
      },
      "text/plain": [
       "Inner:   0%|          | 0/10 [00:00<?, ?it/s]"
      ]
     },
     "metadata": {},
     "output_type": "display_data"
    },
    {
     "data": {
      "application/vnd.jupyter.widget-view+json": {
       "model_id": "acb0ea2107d54414a0435f7d25e96e22",
       "version_major": 2,
       "version_minor": 0
      },
      "text/plain": [
       "Inner:   0%|          | 0/10 [00:00<?, ?it/s]"
      ]
     },
     "metadata": {},
     "output_type": "display_data"
    },
    {
     "data": {
      "application/vnd.jupyter.widget-view+json": {
       "model_id": "60272cdbe09a47d4a10f47e70cb7eb49",
       "version_major": 2,
       "version_minor": 0
      },
      "text/plain": [
       "Inner:   0%|          | 0/10 [00:00<?, ?it/s]"
      ]
     },
     "metadata": {},
     "output_type": "display_data"
    },
    {
     "data": {
      "application/vnd.jupyter.widget-view+json": {
       "model_id": "d146f247423444edac7f09d78a614b42",
       "version_major": 2,
       "version_minor": 0
      },
      "text/plain": [
       "Inner:   0%|          | 0/10 [00:00<?, ?it/s]"
      ]
     },
     "metadata": {},
     "output_type": "display_data"
    },
    {
     "data": {
      "application/vnd.jupyter.widget-view+json": {
       "model_id": "4739ab03969949f2a7911ce28030cca1",
       "version_major": 2,
       "version_minor": 0
      },
      "text/plain": [
       "Inner:   0%|          | 0/10 [00:00<?, ?it/s]"
      ]
     },
     "metadata": {},
     "output_type": "display_data"
    },
    {
     "data": {
      "application/vnd.jupyter.widget-view+json": {
       "model_id": "1aafa10ae69e4ed9a5b9ed231ab4182c",
       "version_major": 2,
       "version_minor": 0
      },
      "text/plain": [
       "Inner:   0%|          | 0/10 [00:00<?, ?it/s]"
      ]
     },
     "metadata": {},
     "output_type": "display_data"
    },
    {
     "data": {
      "application/vnd.jupyter.widget-view+json": {
       "model_id": "97dfee3eb2e048b490f882914f6fd889",
       "version_major": 2,
       "version_minor": 0
      },
      "text/plain": [
       "Inner:   0%|          | 0/10 [00:00<?, ?it/s]"
      ]
     },
     "metadata": {},
     "output_type": "display_data"
    },
    {
     "data": {
      "application/vnd.jupyter.widget-view+json": {
       "model_id": "c5a37365129c4790a1e910c937a2a29c",
       "version_major": 2,
       "version_minor": 0
      },
      "text/plain": [
       "Inner:   0%|          | 0/10 [00:00<?, ?it/s]"
      ]
     },
     "metadata": {},
     "output_type": "display_data"
    },
    {
     "data": {
      "application/vnd.jupyter.widget-view+json": {
       "model_id": "a1773a849bb848f3b5285d17538a10fe",
       "version_major": 2,
       "version_minor": 0
      },
      "text/plain": [
       "Inner:   0%|          | 0/10 [00:00<?, ?it/s]"
      ]
     },
     "metadata": {},
     "output_type": "display_data"
    },
    {
     "data": {
      "application/vnd.jupyter.widget-view+json": {
       "model_id": "0c2ad081cff049eaa41178dc8b8b6d17",
       "version_major": 2,
       "version_minor": 0
      },
      "text/plain": [
       "Inner:   0%|          | 0/10 [00:00<?, ?it/s]"
      ]
     },
     "metadata": {},
     "output_type": "display_data"
    },
    {
     "data": {
      "application/vnd.jupyter.widget-view+json": {
       "model_id": "a3f22f0c359d48f6a9e077a92d9c0e00",
       "version_major": 2,
       "version_minor": 0
      },
      "text/plain": [
       "Inner:   0%|          | 0/10 [00:00<?, ?it/s]"
      ]
     },
     "metadata": {},
     "output_type": "display_data"
    },
    {
     "data": {
      "application/vnd.jupyter.widget-view+json": {
       "model_id": "6bb0d638079e4676abdb58d34fe9aabc",
       "version_major": 2,
       "version_minor": 0
      },
      "text/plain": [
       "Inner:   0%|          | 0/10 [00:00<?, ?it/s]"
      ]
     },
     "metadata": {},
     "output_type": "display_data"
    },
    {
     "data": {
      "application/vnd.jupyter.widget-view+json": {
       "model_id": "471682a0f74e4d799d35d9de4dfe93ee",
       "version_major": 2,
       "version_minor": 0
      },
      "text/plain": [
       "Inner:   0%|          | 0/10 [00:00<?, ?it/s]"
      ]
     },
     "metadata": {},
     "output_type": "display_data"
    },
    {
     "data": {
      "application/vnd.jupyter.widget-view+json": {
       "model_id": "525cfbf5545842c9a918d6af0da7352a",
       "version_major": 2,
       "version_minor": 0
      },
      "text/plain": [
       "Inner:   0%|          | 0/10 [00:00<?, ?it/s]"
      ]
     },
     "metadata": {},
     "output_type": "display_data"
    },
    {
     "data": {
      "application/vnd.jupyter.widget-view+json": {
       "model_id": "b1c497f6fab0479ca76d529ae8c974ae",
       "version_major": 2,
       "version_minor": 0
      },
      "text/plain": [
       "Inner:   0%|          | 0/10 [00:00<?, ?it/s]"
      ]
     },
     "metadata": {},
     "output_type": "display_data"
    },
    {
     "data": {
      "application/vnd.jupyter.widget-view+json": {
       "model_id": "494d15a43edc4594a63a9e75b4110d69",
       "version_major": 2,
       "version_minor": 0
      },
      "text/plain": [
       "Inner:   0%|          | 0/10 [00:00<?, ?it/s]"
      ]
     },
     "metadata": {},
     "output_type": "display_data"
    },
    {
     "data": {
      "application/vnd.jupyter.widget-view+json": {
       "model_id": "a87e0783366047779a3fd503a30e2b62",
       "version_major": 2,
       "version_minor": 0
      },
      "text/plain": [
       "Inner:   0%|          | 0/10 [00:00<?, ?it/s]"
      ]
     },
     "metadata": {},
     "output_type": "display_data"
    },
    {
     "data": {
      "application/vnd.jupyter.widget-view+json": {
       "model_id": "d10bf8da5a0c411a9167402cdead84dd",
       "version_major": 2,
       "version_minor": 0
      },
      "text/plain": [
       "Inner:   0%|          | 0/10 [00:00<?, ?it/s]"
      ]
     },
     "metadata": {},
     "output_type": "display_data"
    },
    {
     "data": {
      "application/vnd.jupyter.widget-view+json": {
       "model_id": "e6c2de27484e40bd86257ee3a1bad35a",
       "version_major": 2,
       "version_minor": 0
      },
      "text/plain": [
       "Inner:   0%|          | 0/10 [00:00<?, ?it/s]"
      ]
     },
     "metadata": {},
     "output_type": "display_data"
    },
    {
     "data": {
      "application/vnd.jupyter.widget-view+json": {
       "model_id": "63664d13d8cc42428270c5a3ca944907",
       "version_major": 2,
       "version_minor": 0
      },
      "text/plain": [
       "Inner:   0%|          | 0/10 [00:00<?, ?it/s]"
      ]
     },
     "metadata": {},
     "output_type": "display_data"
    },
    {
     "data": {
      "application/vnd.jupyter.widget-view+json": {
       "model_id": "1194372d4ec34991a00a794001d65169",
       "version_major": 2,
       "version_minor": 0
      },
      "text/plain": [
       "Inner:   0%|          | 0/10 [00:00<?, ?it/s]"
      ]
     },
     "metadata": {},
     "output_type": "display_data"
    },
    {
     "data": {
      "application/vnd.jupyter.widget-view+json": {
       "model_id": "bf1349347db7475c9e65acc2dbe0f1de",
       "version_major": 2,
       "version_minor": 0
      },
      "text/plain": [
       "Inner:   0%|          | 0/10 [00:00<?, ?it/s]"
      ]
     },
     "metadata": {},
     "output_type": "display_data"
    },
    {
     "data": {
      "application/vnd.jupyter.widget-view+json": {
       "model_id": "32a07d364a1e4e22a9070f0abe526f65",
       "version_major": 2,
       "version_minor": 0
      },
      "text/plain": [
       "Inner:   0%|          | 0/10 [00:00<?, ?it/s]"
      ]
     },
     "metadata": {},
     "output_type": "display_data"
    },
    {
     "data": {
      "application/vnd.jupyter.widget-view+json": {
       "model_id": "f18e1b83458441dcbd0b976f8a0d2bd2",
       "version_major": 2,
       "version_minor": 0
      },
      "text/plain": [
       "Inner:   0%|          | 0/10 [00:00<?, ?it/s]"
      ]
     },
     "metadata": {},
     "output_type": "display_data"
    },
    {
     "data": {
      "application/vnd.jupyter.widget-view+json": {
       "model_id": "06b0eb44d6e941c59bf882770e74ab8b",
       "version_major": 2,
       "version_minor": 0
      },
      "text/plain": [
       "Inner:   0%|          | 0/10 [00:00<?, ?it/s]"
      ]
     },
     "metadata": {},
     "output_type": "display_data"
    },
    {
     "data": {
      "application/vnd.jupyter.widget-view+json": {
       "model_id": "4c14bbacf354424e9c246135231dc5ec",
       "version_major": 2,
       "version_minor": 0
      },
      "text/plain": [
       "Inner:   0%|          | 0/10 [00:00<?, ?it/s]"
      ]
     },
     "metadata": {},
     "output_type": "display_data"
    },
    {
     "data": {
      "application/vnd.jupyter.widget-view+json": {
       "model_id": "9fafa7680b424c939ab7889a30372b52",
       "version_major": 2,
       "version_minor": 0
      },
      "text/plain": [
       "Inner:   0%|          | 0/10 [00:00<?, ?it/s]"
      ]
     },
     "metadata": {},
     "output_type": "display_data"
    },
    {
     "data": {
      "application/vnd.jupyter.widget-view+json": {
       "model_id": "9b997ba5b8cf4c958e307179c7263306",
       "version_major": 2,
       "version_minor": 0
      },
      "text/plain": [
       "Inner:   0%|          | 0/10 [00:00<?, ?it/s]"
      ]
     },
     "metadata": {},
     "output_type": "display_data"
    },
    {
     "data": {
      "application/vnd.jupyter.widget-view+json": {
       "model_id": "800554819c3c4c76a05c0f0b985b6f9b",
       "version_major": 2,
       "version_minor": 0
      },
      "text/plain": [
       "Inner:   0%|          | 0/10 [00:00<?, ?it/s]"
      ]
     },
     "metadata": {},
     "output_type": "display_data"
    },
    {
     "data": {
      "application/vnd.jupyter.widget-view+json": {
       "model_id": "aa3679da3742446c9fa4699088645b19",
       "version_major": 2,
       "version_minor": 0
      },
      "text/plain": [
       "Inner:   0%|          | 0/10 [00:00<?, ?it/s]"
      ]
     },
     "metadata": {},
     "output_type": "display_data"
    },
    {
     "data": {
      "application/vnd.jupyter.widget-view+json": {
       "model_id": "9d0ca74596514e46b1bd0333e14f1668",
       "version_major": 2,
       "version_minor": 0
      },
      "text/plain": [
       "Inner:   0%|          | 0/10 [00:00<?, ?it/s]"
      ]
     },
     "metadata": {},
     "output_type": "display_data"
    },
    {
     "data": {
      "application/vnd.jupyter.widget-view+json": {
       "model_id": "bda39bd389124bb583ce388c42e18cdd",
       "version_major": 2,
       "version_minor": 0
      },
      "text/plain": [
       "Inner:   0%|          | 0/10 [00:00<?, ?it/s]"
      ]
     },
     "metadata": {},
     "output_type": "display_data"
    },
    {
     "data": {
      "application/vnd.jupyter.widget-view+json": {
       "model_id": "9f9e21fdf5ae404a90b1e69c54250b84",
       "version_major": 2,
       "version_minor": 0
      },
      "text/plain": [
       "Inner:   0%|          | 0/10 [00:00<?, ?it/s]"
      ]
     },
     "metadata": {},
     "output_type": "display_data"
    },
    {
     "data": {
      "application/vnd.jupyter.widget-view+json": {
       "model_id": "2695a5b726f84b539e9446f0e00d4cf9",
       "version_major": 2,
       "version_minor": 0
      },
      "text/plain": [
       "Inner:   0%|          | 0/10 [00:00<?, ?it/s]"
      ]
     },
     "metadata": {},
     "output_type": "display_data"
    },
    {
     "data": {
      "application/vnd.jupyter.widget-view+json": {
       "model_id": "23c78075e68d486581de89b949c73e87",
       "version_major": 2,
       "version_minor": 0
      },
      "text/plain": [
       "Inner:   0%|          | 0/10 [00:00<?, ?it/s]"
      ]
     },
     "metadata": {},
     "output_type": "display_data"
    },
    {
     "data": {
      "application/vnd.jupyter.widget-view+json": {
       "model_id": "0a1e71a5177b475c9f2cc031c019cb26",
       "version_major": 2,
       "version_minor": 0
      },
      "text/plain": [
       "Inner:   0%|          | 0/10 [00:00<?, ?it/s]"
      ]
     },
     "metadata": {},
     "output_type": "display_data"
    },
    {
     "data": {
      "application/vnd.jupyter.widget-view+json": {
       "model_id": "2ed361c280fe42b0a9e30d566a6698a1",
       "version_major": 2,
       "version_minor": 0
      },
      "text/plain": [
       "Inner:   0%|          | 0/10 [00:00<?, ?it/s]"
      ]
     },
     "metadata": {},
     "output_type": "display_data"
    },
    {
     "data": {
      "application/vnd.jupyter.widget-view+json": {
       "model_id": "efb2091db32c44668d4f42dbec9ec71c",
       "version_major": 2,
       "version_minor": 0
      },
      "text/plain": [
       "Inner:   0%|          | 0/10 [00:00<?, ?it/s]"
      ]
     },
     "metadata": {},
     "output_type": "display_data"
    },
    {
     "data": {
      "application/vnd.jupyter.widget-view+json": {
       "model_id": "d8ddb073462f44ae94257ce79933bd1a",
       "version_major": 2,
       "version_minor": 0
      },
      "text/plain": [
       "Inner:   0%|          | 0/10 [00:00<?, ?it/s]"
      ]
     },
     "metadata": {},
     "output_type": "display_data"
    },
    {
     "data": {
      "application/vnd.jupyter.widget-view+json": {
       "model_id": "51bd4a1fd7f2479ab87792a49872f474",
       "version_major": 2,
       "version_minor": 0
      },
      "text/plain": [
       "Inner:   0%|          | 0/10 [00:00<?, ?it/s]"
      ]
     },
     "metadata": {},
     "output_type": "display_data"
    },
    {
     "data": {
      "application/vnd.jupyter.widget-view+json": {
       "model_id": "36c1065384564d46a3061c3bb60c8e52",
       "version_major": 2,
       "version_minor": 0
      },
      "text/plain": [
       "Inner:   0%|          | 0/10 [00:00<?, ?it/s]"
      ]
     },
     "metadata": {},
     "output_type": "display_data"
    },
    {
     "data": {
      "application/vnd.jupyter.widget-view+json": {
       "model_id": "8d5ea8db7a88435c9ed6606b5130fc6e",
       "version_major": 2,
       "version_minor": 0
      },
      "text/plain": [
       "Inner:   0%|          | 0/10 [00:00<?, ?it/s]"
      ]
     },
     "metadata": {},
     "output_type": "display_data"
    },
    {
     "data": {
      "application/vnd.jupyter.widget-view+json": {
       "model_id": "9040b6fddd10438cb82cd0ab684fdd4f",
       "version_major": 2,
       "version_minor": 0
      },
      "text/plain": [
       "Inner:   0%|          | 0/10 [00:00<?, ?it/s]"
      ]
     },
     "metadata": {},
     "output_type": "display_data"
    },
    {
     "data": {
      "application/vnd.jupyter.widget-view+json": {
       "model_id": "502354ffe39547c793e6a99350d649f5",
       "version_major": 2,
       "version_minor": 0
      },
      "text/plain": [
       "Inner:   0%|          | 0/10 [00:00<?, ?it/s]"
      ]
     },
     "metadata": {},
     "output_type": "display_data"
    },
    {
     "data": {
      "application/vnd.jupyter.widget-view+json": {
       "model_id": "b57e575a09e84e5692afc1e8d52c4080",
       "version_major": 2,
       "version_minor": 0
      },
      "text/plain": [
       "Inner:   0%|          | 0/10 [00:00<?, ?it/s]"
      ]
     },
     "metadata": {},
     "output_type": "display_data"
    },
    {
     "data": {
      "application/vnd.jupyter.widget-view+json": {
       "model_id": "aff7227d0ffd460e9f11cf13962064ed",
       "version_major": 2,
       "version_minor": 0
      },
      "text/plain": [
       "Inner:   0%|          | 0/10 [00:00<?, ?it/s]"
      ]
     },
     "metadata": {},
     "output_type": "display_data"
    },
    {
     "data": {
      "application/vnd.jupyter.widget-view+json": {
       "model_id": "10e5aabe834f4b55b20a9b0d1bcf9c3e",
       "version_major": 2,
       "version_minor": 0
      },
      "text/plain": [
       "Inner:   0%|          | 0/10 [00:00<?, ?it/s]"
      ]
     },
     "metadata": {},
     "output_type": "display_data"
    },
    {
     "data": {
      "application/vnd.jupyter.widget-view+json": {
       "model_id": "6482d721a808429db33b3ffd0eb79168",
       "version_major": 2,
       "version_minor": 0
      },
      "text/plain": [
       "Inner:   0%|          | 0/10 [00:00<?, ?it/s]"
      ]
     },
     "metadata": {},
     "output_type": "display_data"
    },
    {
     "data": {
      "application/vnd.jupyter.widget-view+json": {
       "model_id": "01b05432aeaa4a598f73ec18839170b3",
       "version_major": 2,
       "version_minor": 0
      },
      "text/plain": [
       "Inner:   0%|          | 0/10 [00:00<?, ?it/s]"
      ]
     },
     "metadata": {},
     "output_type": "display_data"
    },
    {
     "data": {
      "application/vnd.jupyter.widget-view+json": {
       "model_id": "8d39208d50e4486582f3568460f61203",
       "version_major": 2,
       "version_minor": 0
      },
      "text/plain": [
       "Inner:   0%|          | 0/10 [00:00<?, ?it/s]"
      ]
     },
     "metadata": {},
     "output_type": "display_data"
    },
    {
     "data": {
      "application/vnd.jupyter.widget-view+json": {
       "model_id": "8041d34a990a45429a755ace07eeadb6",
       "version_major": 2,
       "version_minor": 0
      },
      "text/plain": [
       "Inner:   0%|          | 0/10 [00:00<?, ?it/s]"
      ]
     },
     "metadata": {},
     "output_type": "display_data"
    },
    {
     "data": {
      "application/vnd.jupyter.widget-view+json": {
       "model_id": "343785ba19ec409f98a424107a7f7276",
       "version_major": 2,
       "version_minor": 0
      },
      "text/plain": [
       "Inner:   0%|          | 0/10 [00:00<?, ?it/s]"
      ]
     },
     "metadata": {},
     "output_type": "display_data"
    },
    {
     "data": {
      "application/vnd.jupyter.widget-view+json": {
       "model_id": "7530c0e8377d43cfafe335965cf90ca7",
       "version_major": 2,
       "version_minor": 0
      },
      "text/plain": [
       "Inner:   0%|          | 0/10 [00:00<?, ?it/s]"
      ]
     },
     "metadata": {},
     "output_type": "display_data"
    },
    {
     "data": {
      "application/vnd.jupyter.widget-view+json": {
       "model_id": "5625cc9c656e458da5051c43a0070b0e",
       "version_major": 2,
       "version_minor": 0
      },
      "text/plain": [
       "Inner:   0%|          | 0/10 [00:00<?, ?it/s]"
      ]
     },
     "metadata": {},
     "output_type": "display_data"
    },
    {
     "data": {
      "application/vnd.jupyter.widget-view+json": {
       "model_id": "c0a6ea56b1ce40c2ae22e70a10244eee",
       "version_major": 2,
       "version_minor": 0
      },
      "text/plain": [
       "Inner:   0%|          | 0/10 [00:00<?, ?it/s]"
      ]
     },
     "metadata": {},
     "output_type": "display_data"
    },
    {
     "data": {
      "application/vnd.jupyter.widget-view+json": {
       "model_id": "5966922d2d864c3c9260ce959e7103cf",
       "version_major": 2,
       "version_minor": 0
      },
      "text/plain": [
       "Inner:   0%|          | 0/10 [00:00<?, ?it/s]"
      ]
     },
     "metadata": {},
     "output_type": "display_data"
    },
    {
     "data": {
      "application/vnd.jupyter.widget-view+json": {
       "model_id": "3ef7c69d8d364e17b0d4612a25ccf06a",
       "version_major": 2,
       "version_minor": 0
      },
      "text/plain": [
       "Inner:   0%|          | 0/10 [00:00<?, ?it/s]"
      ]
     },
     "metadata": {},
     "output_type": "display_data"
    },
    {
     "data": {
      "application/vnd.jupyter.widget-view+json": {
       "model_id": "95a964f6cc7948aeaf028c0a08137490",
       "version_major": 2,
       "version_minor": 0
      },
      "text/plain": [
       "Inner:   0%|          | 0/10 [00:00<?, ?it/s]"
      ]
     },
     "metadata": {},
     "output_type": "display_data"
    },
    {
     "data": {
      "application/vnd.jupyter.widget-view+json": {
       "model_id": "c41dca9554c643d78617a4d5254d334e",
       "version_major": 2,
       "version_minor": 0
      },
      "text/plain": [
       "Inner:   0%|          | 0/10 [00:00<?, ?it/s]"
      ]
     },
     "metadata": {},
     "output_type": "display_data"
    },
    {
     "data": {
      "application/vnd.jupyter.widget-view+json": {
       "model_id": "16d0922c80ca4e12af359c1e5ff8f7e3",
       "version_major": 2,
       "version_minor": 0
      },
      "text/plain": [
       "Inner:   0%|          | 0/10 [00:00<?, ?it/s]"
      ]
     },
     "metadata": {},
     "output_type": "display_data"
    },
    {
     "data": {
      "application/vnd.jupyter.widget-view+json": {
       "model_id": "9f12f9a6b9484f80b85e0e806654c0a4",
       "version_major": 2,
       "version_minor": 0
      },
      "text/plain": [
       "Inner:   0%|          | 0/10 [00:00<?, ?it/s]"
      ]
     },
     "metadata": {},
     "output_type": "display_data"
    },
    {
     "data": {
      "application/vnd.jupyter.widget-view+json": {
       "model_id": "860e436d379b4e9a8e38afde8930bd78",
       "version_major": 2,
       "version_minor": 0
      },
      "text/plain": [
       "Inner:   0%|          | 0/10 [00:00<?, ?it/s]"
      ]
     },
     "metadata": {},
     "output_type": "display_data"
    },
    {
     "data": {
      "application/vnd.jupyter.widget-view+json": {
       "model_id": "d5f0466ae31e4cd1a35879d9058791cf",
       "version_major": 2,
       "version_minor": 0
      },
      "text/plain": [
       "Inner:   0%|          | 0/10 [00:00<?, ?it/s]"
      ]
     },
     "metadata": {},
     "output_type": "display_data"
    },
    {
     "data": {
      "application/vnd.jupyter.widget-view+json": {
       "model_id": "34b6dd974ff6431f817909b51cf9ff7d",
       "version_major": 2,
       "version_minor": 0
      },
      "text/plain": [
       "Inner:   0%|          | 0/10 [00:00<?, ?it/s]"
      ]
     },
     "metadata": {},
     "output_type": "display_data"
    },
    {
     "data": {
      "application/vnd.jupyter.widget-view+json": {
       "model_id": "9cbb9f8e89ec4ceca168ff41338ee8d9",
       "version_major": 2,
       "version_minor": 0
      },
      "text/plain": [
       "Inner:   0%|          | 0/10 [00:00<?, ?it/s]"
      ]
     },
     "metadata": {},
     "output_type": "display_data"
    },
    {
     "data": {
      "application/vnd.jupyter.widget-view+json": {
       "model_id": "567e9330e1324bac8123bb512dcc43fd",
       "version_major": 2,
       "version_minor": 0
      },
      "text/plain": [
       "Inner:   0%|          | 0/10 [00:00<?, ?it/s]"
      ]
     },
     "metadata": {},
     "output_type": "display_data"
    },
    {
     "data": {
      "application/vnd.jupyter.widget-view+json": {
       "model_id": "e2b993ce6624483baafa09ee0481916d",
       "version_major": 2,
       "version_minor": 0
      },
      "text/plain": [
       "Inner:   0%|          | 0/10 [00:00<?, ?it/s]"
      ]
     },
     "metadata": {},
     "output_type": "display_data"
    },
    {
     "data": {
      "application/vnd.jupyter.widget-view+json": {
       "model_id": "57f4d14fbcea49b184ef93d3d82fad6d",
       "version_major": 2,
       "version_minor": 0
      },
      "text/plain": [
       "Inner:   0%|          | 0/10 [00:00<?, ?it/s]"
      ]
     },
     "metadata": {},
     "output_type": "display_data"
    },
    {
     "data": {
      "application/vnd.jupyter.widget-view+json": {
       "model_id": "e98b530451fa405fa24495189e529ae3",
       "version_major": 2,
       "version_minor": 0
      },
      "text/plain": [
       "Inner:   0%|          | 0/10 [00:00<?, ?it/s]"
      ]
     },
     "metadata": {},
     "output_type": "display_data"
    },
    {
     "data": {
      "application/vnd.jupyter.widget-view+json": {
       "model_id": "fdb2cc989b8d4834bb68c8f3b2d8fada",
       "version_major": 2,
       "version_minor": 0
      },
      "text/plain": [
       "Inner:   0%|          | 0/10 [00:00<?, ?it/s]"
      ]
     },
     "metadata": {},
     "output_type": "display_data"
    },
    {
     "data": {
      "application/vnd.jupyter.widget-view+json": {
       "model_id": "ff8cf0a6eab449b8a3d73b008cbfd6ef",
       "version_major": 2,
       "version_minor": 0
      },
      "text/plain": [
       "Inner:   0%|          | 0/10 [00:00<?, ?it/s]"
      ]
     },
     "metadata": {},
     "output_type": "display_data"
    },
    {
     "data": {
      "application/vnd.jupyter.widget-view+json": {
       "model_id": "28307619c99b4ab4a55d980c69aa46da",
       "version_major": 2,
       "version_minor": 0
      },
      "text/plain": [
       "Inner:   0%|          | 0/10 [00:00<?, ?it/s]"
      ]
     },
     "metadata": {},
     "output_type": "display_data"
    },
    {
     "data": {
      "application/vnd.jupyter.widget-view+json": {
       "model_id": "5b84ff1d29ed41cd8cdf342f09f7f0f5",
       "version_major": 2,
       "version_minor": 0
      },
      "text/plain": [
       "Inner:   0%|          | 0/10 [00:00<?, ?it/s]"
      ]
     },
     "metadata": {},
     "output_type": "display_data"
    },
    {
     "data": {
      "application/vnd.jupyter.widget-view+json": {
       "model_id": "26c8c554fc1c4ce7975cbf2d0248eefd",
       "version_major": 2,
       "version_minor": 0
      },
      "text/plain": [
       "Inner:   0%|          | 0/10 [00:00<?, ?it/s]"
      ]
     },
     "metadata": {},
     "output_type": "display_data"
    },
    {
     "data": {
      "application/vnd.jupyter.widget-view+json": {
       "model_id": "cf6fd32bb532443492a2141295fe6021",
       "version_major": 2,
       "version_minor": 0
      },
      "text/plain": [
       "Inner:   0%|          | 0/10 [00:00<?, ?it/s]"
      ]
     },
     "metadata": {},
     "output_type": "display_data"
    },
    {
     "data": {
      "application/vnd.jupyter.widget-view+json": {
       "model_id": "f890ba19fe7a4ca093b5fdd7ed978a67",
       "version_major": 2,
       "version_minor": 0
      },
      "text/plain": [
       "Inner:   0%|          | 0/10 [00:00<?, ?it/s]"
      ]
     },
     "metadata": {},
     "output_type": "display_data"
    },
    {
     "data": {
      "application/vnd.jupyter.widget-view+json": {
       "model_id": "c3cc600be8524b998b2b1b57f5a4d2cf",
       "version_major": 2,
       "version_minor": 0
      },
      "text/plain": [
       "Inner:   0%|          | 0/10 [00:00<?, ?it/s]"
      ]
     },
     "metadata": {},
     "output_type": "display_data"
    },
    {
     "data": {
      "application/vnd.jupyter.widget-view+json": {
       "model_id": "6eda8d4160c9496898b36c1aef13f088",
       "version_major": 2,
       "version_minor": 0
      },
      "text/plain": [
       "Inner:   0%|          | 0/10 [00:00<?, ?it/s]"
      ]
     },
     "metadata": {},
     "output_type": "display_data"
    },
    {
     "data": {
      "application/vnd.jupyter.widget-view+json": {
       "model_id": "b7259848f0714c51be7a0f4a13037c7d",
       "version_major": 2,
       "version_minor": 0
      },
      "text/plain": [
       "Inner:   0%|          | 0/10 [00:00<?, ?it/s]"
      ]
     },
     "metadata": {},
     "output_type": "display_data"
    },
    {
     "data": {
      "application/vnd.jupyter.widget-view+json": {
       "model_id": "26d1a030631f4fe094568f7e6e962992",
       "version_major": 2,
       "version_minor": 0
      },
      "text/plain": [
       "Inner:   0%|          | 0/10 [00:00<?, ?it/s]"
      ]
     },
     "metadata": {},
     "output_type": "display_data"
    },
    {
     "data": {
      "application/vnd.jupyter.widget-view+json": {
       "model_id": "d968bc59342045febfd7246416204c0d",
       "version_major": 2,
       "version_minor": 0
      },
      "text/plain": [
       "Inner:   0%|          | 0/10 [00:00<?, ?it/s]"
      ]
     },
     "metadata": {},
     "output_type": "display_data"
    },
    {
     "data": {
      "application/vnd.jupyter.widget-view+json": {
       "model_id": "a60feb22d36c427fa9dcc4cd53ad1921",
       "version_major": 2,
       "version_minor": 0
      },
      "text/plain": [
       "Inner:   0%|          | 0/10 [00:00<?, ?it/s]"
      ]
     },
     "metadata": {},
     "output_type": "display_data"
    },
    {
     "data": {
      "application/vnd.jupyter.widget-view+json": {
       "model_id": "1d5ec6f1d8fb42208638c0af1de301e1",
       "version_major": 2,
       "version_minor": 0
      },
      "text/plain": [
       "Inner:   0%|          | 0/10 [00:00<?, ?it/s]"
      ]
     },
     "metadata": {},
     "output_type": "display_data"
    },
    {
     "data": {
      "application/vnd.jupyter.widget-view+json": {
       "model_id": "fb5ed429284b48218550d9ad0865a4bb",
       "version_major": 2,
       "version_minor": 0
      },
      "text/plain": [
       "Inner:   0%|          | 0/10 [00:00<?, ?it/s]"
      ]
     },
     "metadata": {},
     "output_type": "display_data"
    },
    {
     "data": {
      "application/vnd.jupyter.widget-view+json": {
       "model_id": "fc6a4524bc6b47deb4298ac9d9bf9370",
       "version_major": 2,
       "version_minor": 0
      },
      "text/plain": [
       "Inner:   0%|          | 0/10 [00:00<?, ?it/s]"
      ]
     },
     "metadata": {},
     "output_type": "display_data"
    },
    {
     "data": {
      "application/vnd.jupyter.widget-view+json": {
       "model_id": "7eb6e6732f8d4a44bd5f709f5b336886",
       "version_major": 2,
       "version_minor": 0
      },
      "text/plain": [
       "Inner:   0%|          | 0/10 [00:00<?, ?it/s]"
      ]
     },
     "metadata": {},
     "output_type": "display_data"
    },
    {
     "data": {
      "application/vnd.jupyter.widget-view+json": {
       "model_id": "15f0052c3f584955a32984aa91cfdf79",
       "version_major": 2,
       "version_minor": 0
      },
      "text/plain": [
       "Inner:   0%|          | 0/10 [00:00<?, ?it/s]"
      ]
     },
     "metadata": {},
     "output_type": "display_data"
    },
    {
     "data": {
      "application/vnd.jupyter.widget-view+json": {
       "model_id": "0b9e885deff847debf13a5aff0d506b6",
       "version_major": 2,
       "version_minor": 0
      },
      "text/plain": [
       "Inner:   0%|          | 0/10 [00:00<?, ?it/s]"
      ]
     },
     "metadata": {},
     "output_type": "display_data"
    },
    {
     "data": {
      "application/vnd.jupyter.widget-view+json": {
       "model_id": "da94e1df93c6449d8a40d803ede46e36",
       "version_major": 2,
       "version_minor": 0
      },
      "text/plain": [
       "Inner:   0%|          | 0/10 [00:00<?, ?it/s]"
      ]
     },
     "metadata": {},
     "output_type": "display_data"
    },
    {
     "data": {
      "application/vnd.jupyter.widget-view+json": {
       "model_id": "8de46e4019f248b7a15b357444f89062",
       "version_major": 2,
       "version_minor": 0
      },
      "text/plain": [
       "Inner:   0%|          | 0/10 [00:00<?, ?it/s]"
      ]
     },
     "metadata": {},
     "output_type": "display_data"
    },
    {
     "data": {
      "application/vnd.jupyter.widget-view+json": {
       "model_id": "512012036534434f8779b710ca2cf991",
       "version_major": 2,
       "version_minor": 0
      },
      "text/plain": [
       "Inner:   0%|          | 0/10 [00:00<?, ?it/s]"
      ]
     },
     "metadata": {},
     "output_type": "display_data"
    },
    {
     "data": {
      "application/vnd.jupyter.widget-view+json": {
       "model_id": "9989029483654ba9bfaf6f2e08e72319",
       "version_major": 2,
       "version_minor": 0
      },
      "text/plain": [
       "Inner:   0%|          | 0/10 [00:00<?, ?it/s]"
      ]
     },
     "metadata": {},
     "output_type": "display_data"
    },
    {
     "data": {
      "application/vnd.jupyter.widget-view+json": {
       "model_id": "a15b79aaa2ed44fb92406afe4c15764b",
       "version_major": 2,
       "version_minor": 0
      },
      "text/plain": [
       "Inner:   0%|          | 0/10 [00:00<?, ?it/s]"
      ]
     },
     "metadata": {},
     "output_type": "display_data"
    },
    {
     "data": {
      "application/vnd.jupyter.widget-view+json": {
       "model_id": "516d90453dad46fdae9c3f6789fd6a29",
       "version_major": 2,
       "version_minor": 0
      },
      "text/plain": [
       "Inner:   0%|          | 0/10 [00:00<?, ?it/s]"
      ]
     },
     "metadata": {},
     "output_type": "display_data"
    },
    {
     "data": {
      "application/vnd.jupyter.widget-view+json": {
       "model_id": "9fe64392e7b84d2ea0b75e856dcc38b7",
       "version_major": 2,
       "version_minor": 0
      },
      "text/plain": [
       "Inner:   0%|          | 0/10 [00:00<?, ?it/s]"
      ]
     },
     "metadata": {},
     "output_type": "display_data"
    },
    {
     "data": {
      "application/vnd.jupyter.widget-view+json": {
       "model_id": "0bed0edec08b4ade9c608930a9882395",
       "version_major": 2,
       "version_minor": 0
      },
      "text/plain": [
       "Inner:   0%|          | 0/10 [00:00<?, ?it/s]"
      ]
     },
     "metadata": {},
     "output_type": "display_data"
    },
    {
     "data": {
      "application/vnd.jupyter.widget-view+json": {
       "model_id": "c7036f4fa933498c84d7a73b72241bde",
       "version_major": 2,
       "version_minor": 0
      },
      "text/plain": [
       "Inner:   0%|          | 0/10 [00:00<?, ?it/s]"
      ]
     },
     "metadata": {},
     "output_type": "display_data"
    },
    {
     "data": {
      "application/vnd.jupyter.widget-view+json": {
       "model_id": "8c839203dd694a6d9d199b1aed140c5c",
       "version_major": 2,
       "version_minor": 0
      },
      "text/plain": [
       "Inner:   0%|          | 0/10 [00:00<?, ?it/s]"
      ]
     },
     "metadata": {},
     "output_type": "display_data"
    },
    {
     "data": {
      "application/vnd.jupyter.widget-view+json": {
       "model_id": "30c2696413374410801233b560628b18",
       "version_major": 2,
       "version_minor": 0
      },
      "text/plain": [
       "Inner:   0%|          | 0/10 [00:00<?, ?it/s]"
      ]
     },
     "metadata": {},
     "output_type": "display_data"
    },
    {
     "data": {
      "application/vnd.jupyter.widget-view+json": {
       "model_id": "f87ca4076d9c42f3a7a53b3b0e46f2ec",
       "version_major": 2,
       "version_minor": 0
      },
      "text/plain": [
       "Inner:   0%|          | 0/10 [00:00<?, ?it/s]"
      ]
     },
     "metadata": {},
     "output_type": "display_data"
    },
    {
     "data": {
      "application/vnd.jupyter.widget-view+json": {
       "model_id": "3a51273800e84dd284f65f14813491fa",
       "version_major": 2,
       "version_minor": 0
      },
      "text/plain": [
       "Inner:   0%|          | 0/10 [00:00<?, ?it/s]"
      ]
     },
     "metadata": {},
     "output_type": "display_data"
    },
    {
     "data": {
      "application/vnd.jupyter.widget-view+json": {
       "model_id": "9135161ad630410fb160a1763477b724",
       "version_major": 2,
       "version_minor": 0
      },
      "text/plain": [
       "Inner:   0%|          | 0/10 [00:00<?, ?it/s]"
      ]
     },
     "metadata": {},
     "output_type": "display_data"
    },
    {
     "data": {
      "application/vnd.jupyter.widget-view+json": {
       "model_id": "538076c6a2a94691a2e8079c8748723c",
       "version_major": 2,
       "version_minor": 0
      },
      "text/plain": [
       "Inner:   0%|          | 0/10 [00:00<?, ?it/s]"
      ]
     },
     "metadata": {},
     "output_type": "display_data"
    },
    {
     "data": {
      "application/vnd.jupyter.widget-view+json": {
       "model_id": "24a55bdf80b84e9a82c466d0fe3d99e6",
       "version_major": 2,
       "version_minor": 0
      },
      "text/plain": [
       "Inner:   0%|          | 0/10 [00:00<?, ?it/s]"
      ]
     },
     "metadata": {},
     "output_type": "display_data"
    },
    {
     "data": {
      "application/vnd.jupyter.widget-view+json": {
       "model_id": "f5a23ac0632a4ce8bf7330c4ada51a4b",
       "version_major": 2,
       "version_minor": 0
      },
      "text/plain": [
       "Inner:   0%|          | 0/10 [00:00<?, ?it/s]"
      ]
     },
     "metadata": {},
     "output_type": "display_data"
    },
    {
     "data": {
      "application/vnd.jupyter.widget-view+json": {
       "model_id": "fccdb4b6b64e41ebad62ced82a6127b9",
       "version_major": 2,
       "version_minor": 0
      },
      "text/plain": [
       "Inner:   0%|          | 0/10 [00:00<?, ?it/s]"
      ]
     },
     "metadata": {},
     "output_type": "display_data"
    },
    {
     "data": {
      "application/vnd.jupyter.widget-view+json": {
       "model_id": "2074e4b962e746a6b841e6490c7d0a19",
       "version_major": 2,
       "version_minor": 0
      },
      "text/plain": [
       "Inner:   0%|          | 0/10 [00:00<?, ?it/s]"
      ]
     },
     "metadata": {},
     "output_type": "display_data"
    },
    {
     "data": {
      "application/vnd.jupyter.widget-view+json": {
       "model_id": "931e7c81540d4f2b8f27d83998843368",
       "version_major": 2,
       "version_minor": 0
      },
      "text/plain": [
       "Inner:   0%|          | 0/10 [00:00<?, ?it/s]"
      ]
     },
     "metadata": {},
     "output_type": "display_data"
    },
    {
     "data": {
      "application/vnd.jupyter.widget-view+json": {
       "model_id": "ec171dea224c4d22b940205f5b2a6966",
       "version_major": 2,
       "version_minor": 0
      },
      "text/plain": [
       "Inner:   0%|          | 0/10 [00:00<?, ?it/s]"
      ]
     },
     "metadata": {},
     "output_type": "display_data"
    },
    {
     "data": {
      "application/vnd.jupyter.widget-view+json": {
       "model_id": "bb1aa5e1e02e46b58173632aa50fdcbe",
       "version_major": 2,
       "version_minor": 0
      },
      "text/plain": [
       "Inner:   0%|          | 0/10 [00:00<?, ?it/s]"
      ]
     },
     "metadata": {},
     "output_type": "display_data"
    },
    {
     "data": {
      "application/vnd.jupyter.widget-view+json": {
       "model_id": "c7b358d83387443e901db876178c5ed6",
       "version_major": 2,
       "version_minor": 0
      },
      "text/plain": [
       "Inner:   0%|          | 0/10 [00:00<?, ?it/s]"
      ]
     },
     "metadata": {},
     "output_type": "display_data"
    },
    {
     "data": {
      "application/vnd.jupyter.widget-view+json": {
       "model_id": "87477eaedbf04418a7e143db43177f2e",
       "version_major": 2,
       "version_minor": 0
      },
      "text/plain": [
       "Inner:   0%|          | 0/10 [00:00<?, ?it/s]"
      ]
     },
     "metadata": {},
     "output_type": "display_data"
    },
    {
     "data": {
      "application/vnd.jupyter.widget-view+json": {
       "model_id": "eefe7110411c49228ef40ea9ca868012",
       "version_major": 2,
       "version_minor": 0
      },
      "text/plain": [
       "Inner:   0%|          | 0/10 [00:00<?, ?it/s]"
      ]
     },
     "metadata": {},
     "output_type": "display_data"
    },
    {
     "data": {
      "application/vnd.jupyter.widget-view+json": {
       "model_id": "12a33a4a21cb4002a5e6e9511171ef78",
       "version_major": 2,
       "version_minor": 0
      },
      "text/plain": [
       "Inner:   0%|          | 0/10 [00:00<?, ?it/s]"
      ]
     },
     "metadata": {},
     "output_type": "display_data"
    },
    {
     "data": {
      "application/vnd.jupyter.widget-view+json": {
       "model_id": "8a933fc8e1a14d188496bb6c61422c57",
       "version_major": 2,
       "version_minor": 0
      },
      "text/plain": [
       "Inner:   0%|          | 0/10 [00:00<?, ?it/s]"
      ]
     },
     "metadata": {},
     "output_type": "display_data"
    },
    {
     "data": {
      "application/vnd.jupyter.widget-view+json": {
       "model_id": "551a839fa04a44a0a739f294dffd1d36",
       "version_major": 2,
       "version_minor": 0
      },
      "text/plain": [
       "Inner:   0%|          | 0/10 [00:00<?, ?it/s]"
      ]
     },
     "metadata": {},
     "output_type": "display_data"
    },
    {
     "data": {
      "application/vnd.jupyter.widget-view+json": {
       "model_id": "fc8c065fb8dc4ced834ca1e37805805c",
       "version_major": 2,
       "version_minor": 0
      },
      "text/plain": [
       "Inner:   0%|          | 0/10 [00:00<?, ?it/s]"
      ]
     },
     "metadata": {},
     "output_type": "display_data"
    },
    {
     "data": {
      "application/vnd.jupyter.widget-view+json": {
       "model_id": "b8b67c38d41f4a47b4eb90318783acb1",
       "version_major": 2,
       "version_minor": 0
      },
      "text/plain": [
       "Inner:   0%|          | 0/10 [00:00<?, ?it/s]"
      ]
     },
     "metadata": {},
     "output_type": "display_data"
    },
    {
     "data": {
      "application/vnd.jupyter.widget-view+json": {
       "model_id": "b1b59c8eee5f47908bf33e6081f04614",
       "version_major": 2,
       "version_minor": 0
      },
      "text/plain": [
       "Inner:   0%|          | 0/10 [00:00<?, ?it/s]"
      ]
     },
     "metadata": {},
     "output_type": "display_data"
    },
    {
     "data": {
      "application/vnd.jupyter.widget-view+json": {
       "model_id": "75e1476d9e2e4c20ab81137c12a306c4",
       "version_major": 2,
       "version_minor": 0
      },
      "text/plain": [
       "Inner:   0%|          | 0/10 [00:00<?, ?it/s]"
      ]
     },
     "metadata": {},
     "output_type": "display_data"
    },
    {
     "data": {
      "application/vnd.jupyter.widget-view+json": {
       "model_id": "c04435a9aaae44e1826b8e06493fda5d",
       "version_major": 2,
       "version_minor": 0
      },
      "text/plain": [
       "Inner:   0%|          | 0/10 [00:00<?, ?it/s]"
      ]
     },
     "metadata": {},
     "output_type": "display_data"
    },
    {
     "data": {
      "application/vnd.jupyter.widget-view+json": {
       "model_id": "026cc519a2344d83acafee28145064f1",
       "version_major": 2,
       "version_minor": 0
      },
      "text/plain": [
       "Inner:   0%|          | 0/10 [00:00<?, ?it/s]"
      ]
     },
     "metadata": {},
     "output_type": "display_data"
    },
    {
     "data": {
      "application/vnd.jupyter.widget-view+json": {
       "model_id": "0f24b8bb49424cbb947d5a38c1206308",
       "version_major": 2,
       "version_minor": 0
      },
      "text/plain": [
       "Inner:   0%|          | 0/10 [00:00<?, ?it/s]"
      ]
     },
     "metadata": {},
     "output_type": "display_data"
    },
    {
     "data": {
      "application/vnd.jupyter.widget-view+json": {
       "model_id": "41656926940140d79b4c0cfed04e0f5b",
       "version_major": 2,
       "version_minor": 0
      },
      "text/plain": [
       "Inner:   0%|          | 0/10 [00:00<?, ?it/s]"
      ]
     },
     "metadata": {},
     "output_type": "display_data"
    },
    {
     "data": {
      "application/vnd.jupyter.widget-view+json": {
       "model_id": "01d240f4bcca44c8a4e74c882259bf1d",
       "version_major": 2,
       "version_minor": 0
      },
      "text/plain": [
       "Inner:   0%|          | 0/10 [00:00<?, ?it/s]"
      ]
     },
     "metadata": {},
     "output_type": "display_data"
    },
    {
     "data": {
      "application/vnd.jupyter.widget-view+json": {
       "model_id": "52e6db812ce147fa95f991f202c99b81",
       "version_major": 2,
       "version_minor": 0
      },
      "text/plain": [
       "Inner:   0%|          | 0/10 [00:00<?, ?it/s]"
      ]
     },
     "metadata": {},
     "output_type": "display_data"
    },
    {
     "data": {
      "application/vnd.jupyter.widget-view+json": {
       "model_id": "5cebf3e4fdc44adab9b0ce6231091ed2",
       "version_major": 2,
       "version_minor": 0
      },
      "text/plain": [
       "Inner:   0%|          | 0/10 [00:00<?, ?it/s]"
      ]
     },
     "metadata": {},
     "output_type": "display_data"
    },
    {
     "data": {
      "application/vnd.jupyter.widget-view+json": {
       "model_id": "c8dbb7ce5fdc402187231f63366e7fa7",
       "version_major": 2,
       "version_minor": 0
      },
      "text/plain": [
       "Inner:   0%|          | 0/10 [00:00<?, ?it/s]"
      ]
     },
     "metadata": {},
     "output_type": "display_data"
    },
    {
     "data": {
      "application/vnd.jupyter.widget-view+json": {
       "model_id": "388889189d5b4872966a82c2a6383d51",
       "version_major": 2,
       "version_minor": 0
      },
      "text/plain": [
       "Inner:   0%|          | 0/10 [00:00<?, ?it/s]"
      ]
     },
     "metadata": {},
     "output_type": "display_data"
    },
    {
     "data": {
      "application/vnd.jupyter.widget-view+json": {
       "model_id": "4b97892c1e5c4e45b54053f4fbb25a7b",
       "version_major": 2,
       "version_minor": 0
      },
      "text/plain": [
       "Inner:   0%|          | 0/10 [00:00<?, ?it/s]"
      ]
     },
     "metadata": {},
     "output_type": "display_data"
    },
    {
     "data": {
      "application/vnd.jupyter.widget-view+json": {
       "model_id": "a76ace7011314db2bef77acf9f2e0ac3",
       "version_major": 2,
       "version_minor": 0
      },
      "text/plain": [
       "Inner:   0%|          | 0/10 [00:00<?, ?it/s]"
      ]
     },
     "metadata": {},
     "output_type": "display_data"
    },
    {
     "data": {
      "application/vnd.jupyter.widget-view+json": {
       "model_id": "1d4f98f466d44e7d8f6e5736763591ed",
       "version_major": 2,
       "version_minor": 0
      },
      "text/plain": [
       "Inner:   0%|          | 0/10 [00:00<?, ?it/s]"
      ]
     },
     "metadata": {},
     "output_type": "display_data"
    },
    {
     "data": {
      "application/vnd.jupyter.widget-view+json": {
       "model_id": "4546c4fbd5fa49419db64bd87cf4196a",
       "version_major": 2,
       "version_minor": 0
      },
      "text/plain": [
       "Inner:   0%|          | 0/10 [00:00<?, ?it/s]"
      ]
     },
     "metadata": {},
     "output_type": "display_data"
    },
    {
     "data": {
      "application/vnd.jupyter.widget-view+json": {
       "model_id": "71fe155961bc4d27b12d092123b987d9",
       "version_major": 2,
       "version_minor": 0
      },
      "text/plain": [
       "Inner:   0%|          | 0/10 [00:00<?, ?it/s]"
      ]
     },
     "metadata": {},
     "output_type": "display_data"
    },
    {
     "data": {
      "application/vnd.jupyter.widget-view+json": {
       "model_id": "1e41b359478247178c682103d68835ef",
       "version_major": 2,
       "version_minor": 0
      },
      "text/plain": [
       "Inner:   0%|          | 0/10 [00:00<?, ?it/s]"
      ]
     },
     "metadata": {},
     "output_type": "display_data"
    },
    {
     "data": {
      "application/vnd.jupyter.widget-view+json": {
       "model_id": "598045537d2441fa87748fa04d5d91b1",
       "version_major": 2,
       "version_minor": 0
      },
      "text/plain": [
       "Inner:   0%|          | 0/10 [00:00<?, ?it/s]"
      ]
     },
     "metadata": {},
     "output_type": "display_data"
    },
    {
     "data": {
      "application/vnd.jupyter.widget-view+json": {
       "model_id": "122164a6ff464dc1bd664b8beadb3a21",
       "version_major": 2,
       "version_minor": 0
      },
      "text/plain": [
       "Inner:   0%|          | 0/10 [00:00<?, ?it/s]"
      ]
     },
     "metadata": {},
     "output_type": "display_data"
    },
    {
     "data": {
      "application/vnd.jupyter.widget-view+json": {
       "model_id": "357958e4f2654c1f9201964737a3dd39",
       "version_major": 2,
       "version_minor": 0
      },
      "text/plain": [
       "Inner:   0%|          | 0/10 [00:00<?, ?it/s]"
      ]
     },
     "metadata": {},
     "output_type": "display_data"
    },
    {
     "data": {
      "application/vnd.jupyter.widget-view+json": {
       "model_id": "ffca864363d944a59a567ec692fd1157",
       "version_major": 2,
       "version_minor": 0
      },
      "text/plain": [
       "Inner:   0%|          | 0/10 [00:00<?, ?it/s]"
      ]
     },
     "metadata": {},
     "output_type": "display_data"
    },
    {
     "data": {
      "application/vnd.jupyter.widget-view+json": {
       "model_id": "4c7b69c7e6754582bef103b4187e2587",
       "version_major": 2,
       "version_minor": 0
      },
      "text/plain": [
       "Inner:   0%|          | 0/10 [00:00<?, ?it/s]"
      ]
     },
     "metadata": {},
     "output_type": "display_data"
    },
    {
     "data": {
      "application/vnd.jupyter.widget-view+json": {
       "model_id": "1a1c9b8190f64783ab0f472a1800ac1f",
       "version_major": 2,
       "version_minor": 0
      },
      "text/plain": [
       "Inner:   0%|          | 0/10 [00:00<?, ?it/s]"
      ]
     },
     "metadata": {},
     "output_type": "display_data"
    },
    {
     "data": {
      "application/vnd.jupyter.widget-view+json": {
       "model_id": "79e8fcd439d642f8b4b6505611c5f2f6",
       "version_major": 2,
       "version_minor": 0
      },
      "text/plain": [
       "Inner:   0%|          | 0/10 [00:00<?, ?it/s]"
      ]
     },
     "metadata": {},
     "output_type": "display_data"
    },
    {
     "data": {
      "application/vnd.jupyter.widget-view+json": {
       "model_id": "fb15c3314e7849efa4434608346a5022",
       "version_major": 2,
       "version_minor": 0
      },
      "text/plain": [
       "Inner:   0%|          | 0/10 [00:00<?, ?it/s]"
      ]
     },
     "metadata": {},
     "output_type": "display_data"
    },
    {
     "data": {
      "application/vnd.jupyter.widget-view+json": {
       "model_id": "1f0cd13f95384b01b33645cd5acfd889",
       "version_major": 2,
       "version_minor": 0
      },
      "text/plain": [
       "Inner:   0%|          | 0/10 [00:00<?, ?it/s]"
      ]
     },
     "metadata": {},
     "output_type": "display_data"
    },
    {
     "data": {
      "application/vnd.jupyter.widget-view+json": {
       "model_id": "9ae46279531b479b9c8f1b63e67f22a3",
       "version_major": 2,
       "version_minor": 0
      },
      "text/plain": [
       "Inner:   0%|          | 0/10 [00:00<?, ?it/s]"
      ]
     },
     "metadata": {},
     "output_type": "display_data"
    },
    {
     "data": {
      "application/vnd.jupyter.widget-view+json": {
       "model_id": "e219a4be9d95461ea42d21a2e731f501",
       "version_major": 2,
       "version_minor": 0
      },
      "text/plain": [
       "Inner:   0%|          | 0/10 [00:00<?, ?it/s]"
      ]
     },
     "metadata": {},
     "output_type": "display_data"
    },
    {
     "data": {
      "application/vnd.jupyter.widget-view+json": {
       "model_id": "76c8f09d807e4a549e79bc98da87d90c",
       "version_major": 2,
       "version_minor": 0
      },
      "text/plain": [
       "Inner:   0%|          | 0/10 [00:00<?, ?it/s]"
      ]
     },
     "metadata": {},
     "output_type": "display_data"
    },
    {
     "data": {
      "application/vnd.jupyter.widget-view+json": {
       "model_id": "79393ccd42d242f6887051c09b5cff29",
       "version_major": 2,
       "version_minor": 0
      },
      "text/plain": [
       "Inner:   0%|          | 0/10 [00:00<?, ?it/s]"
      ]
     },
     "metadata": {},
     "output_type": "display_data"
    },
    {
     "data": {
      "application/vnd.jupyter.widget-view+json": {
       "model_id": "4125d8a965f24e3bb52e7cc8c270c4d5",
       "version_major": 2,
       "version_minor": 0
      },
      "text/plain": [
       "Inner:   0%|          | 0/10 [00:00<?, ?it/s]"
      ]
     },
     "metadata": {},
     "output_type": "display_data"
    },
    {
     "data": {
      "application/vnd.jupyter.widget-view+json": {
       "model_id": "e76bcd68e81b49808ba8819a033814ff",
       "version_major": 2,
       "version_minor": 0
      },
      "text/plain": [
       "Inner:   0%|          | 0/10 [00:00<?, ?it/s]"
      ]
     },
     "metadata": {},
     "output_type": "display_data"
    },
    {
     "data": {
      "application/vnd.jupyter.widget-view+json": {
       "model_id": "307562347be446b7b343d38697ec12ff",
       "version_major": 2,
       "version_minor": 0
      },
      "text/plain": [
       "Inner:   0%|          | 0/10 [00:00<?, ?it/s]"
      ]
     },
     "metadata": {},
     "output_type": "display_data"
    },
    {
     "data": {
      "application/vnd.jupyter.widget-view+json": {
       "model_id": "9f693f38dfc5436b947e6b628257a5b1",
       "version_major": 2,
       "version_minor": 0
      },
      "text/plain": [
       "Inner:   0%|          | 0/10 [00:00<?, ?it/s]"
      ]
     },
     "metadata": {},
     "output_type": "display_data"
    },
    {
     "data": {
      "application/vnd.jupyter.widget-view+json": {
       "model_id": "f738bbc0f1fc4b308182069f33e2a6da",
       "version_major": 2,
       "version_minor": 0
      },
      "text/plain": [
       "Inner:   0%|          | 0/10 [00:00<?, ?it/s]"
      ]
     },
     "metadata": {},
     "output_type": "display_data"
    },
    {
     "data": {
      "application/vnd.jupyter.widget-view+json": {
       "model_id": "bcfcd78b33114609997d8e205e4b4912",
       "version_major": 2,
       "version_minor": 0
      },
      "text/plain": [
       "Inner:   0%|          | 0/10 [00:00<?, ?it/s]"
      ]
     },
     "metadata": {},
     "output_type": "display_data"
    },
    {
     "data": {
      "application/vnd.jupyter.widget-view+json": {
       "model_id": "78839e25f5bb4c75bb6bcb6030a77f88",
       "version_major": 2,
       "version_minor": 0
      },
      "text/plain": [
       "Inner:   0%|          | 0/10 [00:00<?, ?it/s]"
      ]
     },
     "metadata": {},
     "output_type": "display_data"
    },
    {
     "data": {
      "application/vnd.jupyter.widget-view+json": {
       "model_id": "f0552bf8e74c4c04960f914ca4b09523",
       "version_major": 2,
       "version_minor": 0
      },
      "text/plain": [
       "Inner:   0%|          | 0/10 [00:00<?, ?it/s]"
      ]
     },
     "metadata": {},
     "output_type": "display_data"
    },
    {
     "data": {
      "application/vnd.jupyter.widget-view+json": {
       "model_id": "5f9031f17483488bb425e64b7548d907",
       "version_major": 2,
       "version_minor": 0
      },
      "text/plain": [
       "Inner:   0%|          | 0/10 [00:00<?, ?it/s]"
      ]
     },
     "metadata": {},
     "output_type": "display_data"
    },
    {
     "data": {
      "application/vnd.jupyter.widget-view+json": {
       "model_id": "29f6bb80fbbc4d8591cece95195ff5d6",
       "version_major": 2,
       "version_minor": 0
      },
      "text/plain": [
       "Inner:   0%|          | 0/10 [00:00<?, ?it/s]"
      ]
     },
     "metadata": {},
     "output_type": "display_data"
    },
    {
     "data": {
      "application/vnd.jupyter.widget-view+json": {
       "model_id": "7613db43fd984e4b9cf5e1841a0e965a",
       "version_major": 2,
       "version_minor": 0
      },
      "text/plain": [
       "Inner:   0%|          | 0/10 [00:00<?, ?it/s]"
      ]
     },
     "metadata": {},
     "output_type": "display_data"
    },
    {
     "data": {
      "application/vnd.jupyter.widget-view+json": {
       "model_id": "53e650e170e24ce69d75e9570cff00f0",
       "version_major": 2,
       "version_minor": 0
      },
      "text/plain": [
       "Inner:   0%|          | 0/10 [00:00<?, ?it/s]"
      ]
     },
     "metadata": {},
     "output_type": "display_data"
    },
    {
     "data": {
      "application/vnd.jupyter.widget-view+json": {
       "model_id": "6ea7fb395d0a4b19afb6f9431477056f",
       "version_major": 2,
       "version_minor": 0
      },
      "text/plain": [
       "Inner:   0%|          | 0/10 [00:00<?, ?it/s]"
      ]
     },
     "metadata": {},
     "output_type": "display_data"
    },
    {
     "data": {
      "application/vnd.jupyter.widget-view+json": {
       "model_id": "e27b8ccc59724315bc5f7dbf6680ab0e",
       "version_major": 2,
       "version_minor": 0
      },
      "text/plain": [
       "Inner:   0%|          | 0/10 [00:00<?, ?it/s]"
      ]
     },
     "metadata": {},
     "output_type": "display_data"
    },
    {
     "data": {
      "application/vnd.jupyter.widget-view+json": {
       "model_id": "fe123c3c794142d0b3d6ef634e6766be",
       "version_major": 2,
       "version_minor": 0
      },
      "text/plain": [
       "Inner:   0%|          | 0/10 [00:00<?, ?it/s]"
      ]
     },
     "metadata": {},
     "output_type": "display_data"
    },
    {
     "data": {
      "application/vnd.jupyter.widget-view+json": {
       "model_id": "b972d4709c364bd3979785b97b3bf30e",
       "version_major": 2,
       "version_minor": 0
      },
      "text/plain": [
       "Inner:   0%|          | 0/10 [00:00<?, ?it/s]"
      ]
     },
     "metadata": {},
     "output_type": "display_data"
    },
    {
     "data": {
      "application/vnd.jupyter.widget-view+json": {
       "model_id": "9e726060d9ef460a8ff421ffd2bdbc60",
       "version_major": 2,
       "version_minor": 0
      },
      "text/plain": [
       "Inner:   0%|          | 0/10 [00:00<?, ?it/s]"
      ]
     },
     "metadata": {},
     "output_type": "display_data"
    },
    {
     "data": {
      "application/vnd.jupyter.widget-view+json": {
       "model_id": "1a662ab5f8a5409eb86acccb0c05f976",
       "version_major": 2,
       "version_minor": 0
      },
      "text/plain": [
       "Inner:   0%|          | 0/10 [00:00<?, ?it/s]"
      ]
     },
     "metadata": {},
     "output_type": "display_data"
    },
    {
     "data": {
      "application/vnd.jupyter.widget-view+json": {
       "model_id": "6fc4f0faa6fb4929b87f500b6cf8bff1",
       "version_major": 2,
       "version_minor": 0
      },
      "text/plain": [
       "Inner:   0%|          | 0/10 [00:00<?, ?it/s]"
      ]
     },
     "metadata": {},
     "output_type": "display_data"
    },
    {
     "data": {
      "application/vnd.jupyter.widget-view+json": {
       "model_id": "88ffacbebe4c443093efa48f6b8ffcf2",
       "version_major": 2,
       "version_minor": 0
      },
      "text/plain": [
       "Inner:   0%|          | 0/10 [00:00<?, ?it/s]"
      ]
     },
     "metadata": {},
     "output_type": "display_data"
    },
    {
     "data": {
      "application/vnd.jupyter.widget-view+json": {
       "model_id": "43af8c12bd244a7389113da49f25a51d",
       "version_major": 2,
       "version_minor": 0
      },
      "text/plain": [
       "Inner:   0%|          | 0/10 [00:00<?, ?it/s]"
      ]
     },
     "metadata": {},
     "output_type": "display_data"
    },
    {
     "data": {
      "application/vnd.jupyter.widget-view+json": {
       "model_id": "04ec89c3ab8e40fa8168d5bd52fdb35e",
       "version_major": 2,
       "version_minor": 0
      },
      "text/plain": [
       "Inner:   0%|          | 0/10 [00:00<?, ?it/s]"
      ]
     },
     "metadata": {},
     "output_type": "display_data"
    },
    {
     "data": {
      "application/vnd.jupyter.widget-view+json": {
       "model_id": "4469aec74723448782223c5cd18f8ead",
       "version_major": 2,
       "version_minor": 0
      },
      "text/plain": [
       "Inner:   0%|          | 0/10 [00:00<?, ?it/s]"
      ]
     },
     "metadata": {},
     "output_type": "display_data"
    },
    {
     "data": {
      "application/vnd.jupyter.widget-view+json": {
       "model_id": "188077b98b88420e8d24ab02773b47e0",
       "version_major": 2,
       "version_minor": 0
      },
      "text/plain": [
       "Inner:   0%|          | 0/10 [00:00<?, ?it/s]"
      ]
     },
     "metadata": {},
     "output_type": "display_data"
    },
    {
     "data": {
      "application/vnd.jupyter.widget-view+json": {
       "model_id": "1e051189b18244a786a0247433c6d182",
       "version_major": 2,
       "version_minor": 0
      },
      "text/plain": [
       "Inner:   0%|          | 0/10 [00:00<?, ?it/s]"
      ]
     },
     "metadata": {},
     "output_type": "display_data"
    },
    {
     "data": {
      "application/vnd.jupyter.widget-view+json": {
       "model_id": "2bb1c1e685d44ae1bd9b3a0c8c2a7954",
       "version_major": 2,
       "version_minor": 0
      },
      "text/plain": [
       "Inner:   0%|          | 0/10 [00:00<?, ?it/s]"
      ]
     },
     "metadata": {},
     "output_type": "display_data"
    },
    {
     "data": {
      "application/vnd.jupyter.widget-view+json": {
       "model_id": "35fd0db0bed5455d819df6b211b0ea3f",
       "version_major": 2,
       "version_minor": 0
      },
      "text/plain": [
       "Inner:   0%|          | 0/10 [00:00<?, ?it/s]"
      ]
     },
     "metadata": {},
     "output_type": "display_data"
    },
    {
     "data": {
      "application/vnd.jupyter.widget-view+json": {
       "model_id": "9a70bb9e569b4cb3ae6c8ba060f9196c",
       "version_major": 2,
       "version_minor": 0
      },
      "text/plain": [
       "Inner:   0%|          | 0/10 [00:00<?, ?it/s]"
      ]
     },
     "metadata": {},
     "output_type": "display_data"
    },
    {
     "data": {
      "application/vnd.jupyter.widget-view+json": {
       "model_id": "485712c4b5b4467a9bddb9b71e9fdaa4",
       "version_major": 2,
       "version_minor": 0
      },
      "text/plain": [
       "Inner:   0%|          | 0/10 [00:00<?, ?it/s]"
      ]
     },
     "metadata": {},
     "output_type": "display_data"
    },
    {
     "data": {
      "application/vnd.jupyter.widget-view+json": {
       "model_id": "779e5da76d414e538a5c009a1ae8f4ea",
       "version_major": 2,
       "version_minor": 0
      },
      "text/plain": [
       "Inner:   0%|          | 0/10 [00:00<?, ?it/s]"
      ]
     },
     "metadata": {},
     "output_type": "display_data"
    },
    {
     "data": {
      "application/vnd.jupyter.widget-view+json": {
       "model_id": "97c156d07a5847ee9a265bad2e170b3b",
       "version_major": 2,
       "version_minor": 0
      },
      "text/plain": [
       "Inner:   0%|          | 0/10 [00:00<?, ?it/s]"
      ]
     },
     "metadata": {},
     "output_type": "display_data"
    },
    {
     "data": {
      "application/vnd.jupyter.widget-view+json": {
       "model_id": "913377d1a03a4f25ad95fe9b65f5115d",
       "version_major": 2,
       "version_minor": 0
      },
      "text/plain": [
       "Inner:   0%|          | 0/10 [00:00<?, ?it/s]"
      ]
     },
     "metadata": {},
     "output_type": "display_data"
    },
    {
     "data": {
      "application/vnd.jupyter.widget-view+json": {
       "model_id": "1c9754e7dc5f455ba306bb6737d4150d",
       "version_major": 2,
       "version_minor": 0
      },
      "text/plain": [
       "Inner:   0%|          | 0/10 [00:00<?, ?it/s]"
      ]
     },
     "metadata": {},
     "output_type": "display_data"
    },
    {
     "data": {
      "application/vnd.jupyter.widget-view+json": {
       "model_id": "ea0a3253450b4082a6199ea9911e393a",
       "version_major": 2,
       "version_minor": 0
      },
      "text/plain": [
       "Inner:   0%|          | 0/10 [00:00<?, ?it/s]"
      ]
     },
     "metadata": {},
     "output_type": "display_data"
    },
    {
     "data": {
      "application/vnd.jupyter.widget-view+json": {
       "model_id": "d9a379a6608f449295035503ad0b0d2c",
       "version_major": 2,
       "version_minor": 0
      },
      "text/plain": [
       "Inner:   0%|          | 0/10 [00:00<?, ?it/s]"
      ]
     },
     "metadata": {},
     "output_type": "display_data"
    },
    {
     "data": {
      "application/vnd.jupyter.widget-view+json": {
       "model_id": "046201bea5844652ae2fdb097dabecff",
       "version_major": 2,
       "version_minor": 0
      },
      "text/plain": [
       "Inner:   0%|          | 0/10 [00:00<?, ?it/s]"
      ]
     },
     "metadata": {},
     "output_type": "display_data"
    },
    {
     "data": {
      "application/vnd.jupyter.widget-view+json": {
       "model_id": "5ea853acb8ee408ab22762714ae3c3c3",
       "version_major": 2,
       "version_minor": 0
      },
      "text/plain": [
       "Inner:   0%|          | 0/10 [00:00<?, ?it/s]"
      ]
     },
     "metadata": {},
     "output_type": "display_data"
    },
    {
     "data": {
      "application/vnd.jupyter.widget-view+json": {
       "model_id": "390c9a11877b48f1ad9b4b63c64ccf72",
       "version_major": 2,
       "version_minor": 0
      },
      "text/plain": [
       "Inner:   0%|          | 0/10 [00:00<?, ?it/s]"
      ]
     },
     "metadata": {},
     "output_type": "display_data"
    },
    {
     "data": {
      "application/vnd.jupyter.widget-view+json": {
       "model_id": "a9e6a09c440941c1ab3ef742f11af155",
       "version_major": 2,
       "version_minor": 0
      },
      "text/plain": [
       "Inner:   0%|          | 0/10 [00:00<?, ?it/s]"
      ]
     },
     "metadata": {},
     "output_type": "display_data"
    },
    {
     "data": {
      "application/vnd.jupyter.widget-view+json": {
       "model_id": "ff3bf28e240144c78bf47d9d0f0b98b8",
       "version_major": 2,
       "version_minor": 0
      },
      "text/plain": [
       "Inner:   0%|          | 0/10 [00:00<?, ?it/s]"
      ]
     },
     "metadata": {},
     "output_type": "display_data"
    },
    {
     "data": {
      "application/vnd.jupyter.widget-view+json": {
       "model_id": "7590c57812884b359acb3a1ae6a9ebc2",
       "version_major": 2,
       "version_minor": 0
      },
      "text/plain": [
       "Inner:   0%|          | 0/10 [00:00<?, ?it/s]"
      ]
     },
     "metadata": {},
     "output_type": "display_data"
    },
    {
     "data": {
      "application/vnd.jupyter.widget-view+json": {
       "model_id": "431f6f751ea04a6b960578c818f245ec",
       "version_major": 2,
       "version_minor": 0
      },
      "text/plain": [
       "Inner:   0%|          | 0/10 [00:00<?, ?it/s]"
      ]
     },
     "metadata": {},
     "output_type": "display_data"
    },
    {
     "data": {
      "application/vnd.jupyter.widget-view+json": {
       "model_id": "523004cfae064016a07e1c2a784b9535",
       "version_major": 2,
       "version_minor": 0
      },
      "text/plain": [
       "Inner:   0%|          | 0/10 [00:00<?, ?it/s]"
      ]
     },
     "metadata": {},
     "output_type": "display_data"
    },
    {
     "data": {
      "application/vnd.jupyter.widget-view+json": {
       "model_id": "351cbdc640d44216bec2d8339814f3cb",
       "version_major": 2,
       "version_minor": 0
      },
      "text/plain": [
       "Inner:   0%|          | 0/10 [00:00<?, ?it/s]"
      ]
     },
     "metadata": {},
     "output_type": "display_data"
    },
    {
     "data": {
      "application/vnd.jupyter.widget-view+json": {
       "model_id": "95eaad5199324d6a88485ce60d3791f6",
       "version_major": 2,
       "version_minor": 0
      },
      "text/plain": [
       "Inner:   0%|          | 0/10 [00:00<?, ?it/s]"
      ]
     },
     "metadata": {},
     "output_type": "display_data"
    },
    {
     "data": {
      "application/vnd.jupyter.widget-view+json": {
       "model_id": "c4e3ced69e044195b24c964b30312130",
       "version_major": 2,
       "version_minor": 0
      },
      "text/plain": [
       "Inner:   0%|          | 0/10 [00:00<?, ?it/s]"
      ]
     },
     "metadata": {},
     "output_type": "display_data"
    },
    {
     "data": {
      "application/vnd.jupyter.widget-view+json": {
       "model_id": "6e8adc477b3e43e8a130b0dc65e99835",
       "version_major": 2,
       "version_minor": 0
      },
      "text/plain": [
       "Inner:   0%|          | 0/10 [00:00<?, ?it/s]"
      ]
     },
     "metadata": {},
     "output_type": "display_data"
    },
    {
     "data": {
      "application/vnd.jupyter.widget-view+json": {
       "model_id": "15032da1274f400f9237aa803a80793b",
       "version_major": 2,
       "version_minor": 0
      },
      "text/plain": [
       "Inner:   0%|          | 0/10 [00:00<?, ?it/s]"
      ]
     },
     "metadata": {},
     "output_type": "display_data"
    },
    {
     "data": {
      "application/vnd.jupyter.widget-view+json": {
       "model_id": "45644a91f5834d5e978e74d4bec584eb",
       "version_major": 2,
       "version_minor": 0
      },
      "text/plain": [
       "Inner:   0%|          | 0/10 [00:00<?, ?it/s]"
      ]
     },
     "metadata": {},
     "output_type": "display_data"
    },
    {
     "data": {
      "application/vnd.jupyter.widget-view+json": {
       "model_id": "2d2db0f3ea324eeab9f11d83adf89551",
       "version_major": 2,
       "version_minor": 0
      },
      "text/plain": [
       "Inner:   0%|          | 0/10 [00:00<?, ?it/s]"
      ]
     },
     "metadata": {},
     "output_type": "display_data"
    },
    {
     "data": {
      "application/vnd.jupyter.widget-view+json": {
       "model_id": "b1924f2810a44616b58d6037ba2c6e82",
       "version_major": 2,
       "version_minor": 0
      },
      "text/plain": [
       "Inner:   0%|          | 0/10 [00:00<?, ?it/s]"
      ]
     },
     "metadata": {},
     "output_type": "display_data"
    },
    {
     "data": {
      "application/vnd.jupyter.widget-view+json": {
       "model_id": "a513ab33f1c0402fb620c3f5104ebb16",
       "version_major": 2,
       "version_minor": 0
      },
      "text/plain": [
       "Inner:   0%|          | 0/10 [00:00<?, ?it/s]"
      ]
     },
     "metadata": {},
     "output_type": "display_data"
    },
    {
     "data": {
      "application/vnd.jupyter.widget-view+json": {
       "model_id": "0388dd9bd67f453597457213c308e874",
       "version_major": 2,
       "version_minor": 0
      },
      "text/plain": [
       "Inner:   0%|          | 0/10 [00:00<?, ?it/s]"
      ]
     },
     "metadata": {},
     "output_type": "display_data"
    },
    {
     "data": {
      "application/vnd.jupyter.widget-view+json": {
       "model_id": "ca80489121d34608a3b93047f4e6d584",
       "version_major": 2,
       "version_minor": 0
      },
      "text/plain": [
       "Inner:   0%|          | 0/10 [00:00<?, ?it/s]"
      ]
     },
     "metadata": {},
     "output_type": "display_data"
    },
    {
     "data": {
      "application/vnd.jupyter.widget-view+json": {
       "model_id": "a9cb947420dd4e26b02e8eed7ef05e6b",
       "version_major": 2,
       "version_minor": 0
      },
      "text/plain": [
       "Inner:   0%|          | 0/10 [00:00<?, ?it/s]"
      ]
     },
     "metadata": {},
     "output_type": "display_data"
    },
    {
     "data": {
      "application/vnd.jupyter.widget-view+json": {
       "model_id": "073fa03e43704d17a90985e009ac081f",
       "version_major": 2,
       "version_minor": 0
      },
      "text/plain": [
       "Inner:   0%|          | 0/10 [00:00<?, ?it/s]"
      ]
     },
     "metadata": {},
     "output_type": "display_data"
    },
    {
     "data": {
      "application/vnd.jupyter.widget-view+json": {
       "model_id": "839bd876a6474b438e75cb7a83ef83d7",
       "version_major": 2,
       "version_minor": 0
      },
      "text/plain": [
       "Inner:   0%|          | 0/10 [00:00<?, ?it/s]"
      ]
     },
     "metadata": {},
     "output_type": "display_data"
    },
    {
     "data": {
      "application/vnd.jupyter.widget-view+json": {
       "model_id": "5595d70fba7846f79709cb4cb45821da",
       "version_major": 2,
       "version_minor": 0
      },
      "text/plain": [
       "Inner:   0%|          | 0/10 [00:00<?, ?it/s]"
      ]
     },
     "metadata": {},
     "output_type": "display_data"
    },
    {
     "data": {
      "application/vnd.jupyter.widget-view+json": {
       "model_id": "69ea2b82c24442e483fb99f7e87ae75c",
       "version_major": 2,
       "version_minor": 0
      },
      "text/plain": [
       "Inner:   0%|          | 0/10 [00:00<?, ?it/s]"
      ]
     },
     "metadata": {},
     "output_type": "display_data"
    },
    {
     "data": {
      "application/vnd.jupyter.widget-view+json": {
       "model_id": "b27e27f15af346bca10f1c3771eb459a",
       "version_major": 2,
       "version_minor": 0
      },
      "text/plain": [
       "Inner:   0%|          | 0/10 [00:00<?, ?it/s]"
      ]
     },
     "metadata": {},
     "output_type": "display_data"
    },
    {
     "data": {
      "application/vnd.jupyter.widget-view+json": {
       "model_id": "83f2249b15924e6db2cd4ab715be9419",
       "version_major": 2,
       "version_minor": 0
      },
      "text/plain": [
       "Inner:   0%|          | 0/10 [00:00<?, ?it/s]"
      ]
     },
     "metadata": {},
     "output_type": "display_data"
    },
    {
     "data": {
      "application/vnd.jupyter.widget-view+json": {
       "model_id": "83f097032e21493db78c58b25a993c16",
       "version_major": 2,
       "version_minor": 0
      },
      "text/plain": [
       "Inner:   0%|          | 0/10 [00:00<?, ?it/s]"
      ]
     },
     "metadata": {},
     "output_type": "display_data"
    },
    {
     "data": {
      "application/vnd.jupyter.widget-view+json": {
       "model_id": "63f92e2478244782b3e8e18509a60ee5",
       "version_major": 2,
       "version_minor": 0
      },
      "text/plain": [
       "Inner:   0%|          | 0/10 [00:00<?, ?it/s]"
      ]
     },
     "metadata": {},
     "output_type": "display_data"
    },
    {
     "data": {
      "application/vnd.jupyter.widget-view+json": {
       "model_id": "9f26fcc9e9c0468693d40e32f3c0638a",
       "version_major": 2,
       "version_minor": 0
      },
      "text/plain": [
       "Inner:   0%|          | 0/10 [00:00<?, ?it/s]"
      ]
     },
     "metadata": {},
     "output_type": "display_data"
    },
    {
     "data": {
      "application/vnd.jupyter.widget-view+json": {
       "model_id": "3c9b3913e2c5441293c45f329cc61eeb",
       "version_major": 2,
       "version_minor": 0
      },
      "text/plain": [
       "Inner:   0%|          | 0/10 [00:00<?, ?it/s]"
      ]
     },
     "metadata": {},
     "output_type": "display_data"
    },
    {
     "data": {
      "application/vnd.jupyter.widget-view+json": {
       "model_id": "ba411981211748c681e9963c9fa74f3c",
       "version_major": 2,
       "version_minor": 0
      },
      "text/plain": [
       "Inner:   0%|          | 0/10 [00:00<?, ?it/s]"
      ]
     },
     "metadata": {},
     "output_type": "display_data"
    },
    {
     "data": {
      "application/vnd.jupyter.widget-view+json": {
       "model_id": "d6ae340500f040d28d99c915c95bb42d",
       "version_major": 2,
       "version_minor": 0
      },
      "text/plain": [
       "Inner:   0%|          | 0/10 [00:00<?, ?it/s]"
      ]
     },
     "metadata": {},
     "output_type": "display_data"
    },
    {
     "data": {
      "application/vnd.jupyter.widget-view+json": {
       "model_id": "a6bef577715d4f01bf9f7fb850562070",
       "version_major": 2,
       "version_minor": 0
      },
      "text/plain": [
       "Inner:   0%|          | 0/3 [00:00<?, ?it/s]"
      ]
     },
     "metadata": {},
     "output_type": "display_data"
    }
   ],
   "source": [
    "temp_folder = \"data/temp/\"\n",
    "\n",
    "# Function to process and save batches of DataFrame rows\n",
    "def process_batch(df_batch, start_index):\n",
    "    responses = []\n",
    "    df_length = df_batch.shape[0]\n",
    "    for index, row in tqdm(df_batch.iterrows(), total=df_length, position=1, desc=\"Inner\", leave=False):\n",
    "        info = format_row_as_string(row)\n",
    "        response = query(info)\n",
    "        # Reverse the response to deal with it from the end\n",
    "        reversed_response = response[::-1]\n",
    "        # Find the first digit in the reversed response\n",
    "        match = re.search(r'\\d', reversed_response)\n",
    "        if match:\n",
    "            # Get the matched digit\n",
    "            digit = match.group(0)\n",
    "            classification = digit if digit in ['0', '1'] else \"Unknown\"\n",
    "        else:\n",
    "            classification = \"Unknown\"\n",
    "        responses.append({'id': row['id'], 'target': classification})\n",
    "    # Convert to DataFrame and save as CSV\n",
    "    batch_df = pd.DataFrame(responses)\n",
    "    batch_df.to_csv(f\"{temp_folder}batch_{start_index}.csv\", index=False)\n",
    "\n",
    "# Function to process the DataFrame in chunks and save the results\n",
    "def process_and_save(df, num_rows=-1):\n",
    "    if num_rows == -1:\n",
    "        num_rows = len(df)\n",
    "    for start in tqdm(range(0, num_rows, 10), position=0, desc=\"Outer\"):\n",
    "        end = min(start + 10, num_rows)\n",
    "        df_batch = df.iloc[start:end]\n",
    "        process_batch(df_batch, start)\n",
    "\n",
    "# Function to combine all CSV files from the temp folder into one DataFrame\n",
    "def combine_csv(temp_folder):\n",
    "    all_files = [os.path.join(temp_folder, f) for f in os.listdir(temp_folder) if f.endswith('.csv')]\n",
    "    df_list = [pd.read_csv(file) for file in all_files]\n",
    "    combined_df = pd.concat(df_list, ignore_index=True)\n",
    "    return combined_df\n",
    "\n",
    "process_and_save(df_test, num_rows=-1)\n",
    "\n",
    "# Combine all the CSV files after processing is done\n",
    "final_df = combine_csv(temp_folder)\n",
    "final_df.to_csv(\"output/final_llm_classification.csv\", index=False)\n"
   ]
  },
  {
   "cell_type": "code",
   "execution_count": 24,
   "metadata": {},
   "outputs": [
    {
     "name": "stdout",
     "output_type": "stream",
     "text": [
      "Accuracy: 0.96\n",
      "Precision: 1.0\n",
      "Recall: 0.9\n",
      "F1 Score: 0.9473684210526315\n"
     ]
    }
   ],
   "source": [
    "df_predictions = pd.read_csv(\"output/final_llm_classification.csv\")\n",
    "\n",
    "df_merged = df_train.merge(df_predictions, on='id', suffixes=('_actual', '_predicted'))\n",
    "df_merged['incorrect_prediction'] = ((df_merged['target_actual'] != df_merged['target_predicted']) &\n",
    "                                     (df_merged['target_predicted'] != -1))\n",
    "\n",
    "# Calculate metrics\n",
    "accuracy = accuracy_score(df_merged['target_actual'], df_merged['target_predicted'])\n",
    "precision = precision_score(df_merged['target_actual'], df_merged['target_predicted'], zero_division=0)\n",
    "recall = recall_score(df_merged['target_actual'], df_merged['target_predicted'])\n",
    "f1 = f1_score(df_merged['target_actual'], df_merged['target_predicted'])\n",
    "\n",
    "# Output the metrics\n",
    "print(f'Accuracy: {accuracy}')\n",
    "print(f'Precision: {precision}')\n",
    "print(f'Recall: {recall}')\n",
    "print(f'F1 Score: {f1}')\n",
    "\n",
    "incorrect_predictions = df_merged[df_merged['incorrect_prediction']]\n",
    "incorrect_predictions.to_csv(\"output/incorrect_predictions.csv\", index=False)\n"
   ]
  },
  {
   "cell_type": "markdown",
   "metadata": {},
   "source": [
    "Given the tweet text provided by the user, determine whether it represents a real disaster (actual events like earthquakes, floods, fires, etc.) or not. Your response should be a single number: 1 if the tweet is about a real disaster, and 0 if it is not about a real disaster. Consider the context, wording, and any potential for metaphorical language that might indicate the tweet is not referring to an actual disaster. Please analyze the tweet carefully and provide your classification based on the content.\n",
    "\n",
    "Instructions to Language Model:\n",
    "Review the tweet carefully.\n",
    "Consider the use of specific disaster-related keywords and assess whether they are used to describe real events or metaphorically.\n",
    "Ensure no additional text, explanation, or content is added beyond this number.\n",
    "\n",
    "Reply CONFIRM if you understand.\n",
    "\n",
    "Accuracy: 0.94\n",
    "Precision: 1.0\n",
    "Recall: 0.85\n",
    "F1 Score: 0.918918918918919"
   ]
  },
  {
   "cell_type": "markdown",
   "metadata": {},
   "source": [
    "Given the tweet text provided, determine whether it represents a real disaster (actual events like earthquakes, floods, fires, etc.) or not. Analyze the context deeply, focusing on specific disaster-related keywords, mentions of locations, any temporal references, and the overall tone. Consider the broader situational context and subtleties in language use. In cases of ambiguity, where the tweet could reasonably be about a real disaster based on the context and use of language, classify as a real disaster. Your response should be a single number: 1 if the tweet is about a real disaster, and 0 if it is not.\n",
    "\n",
    "Accuracy: 0.96\n",
    "Precision: 1.0\n",
    "Recall: 0.9\n",
    "F1 Score: 0.9473684210526315"
   ]
  }
 ],
 "metadata": {
  "kernelspec": {
   "display_name": "Python 3",
   "language": "python",
   "name": "python3"
  },
  "language_info": {
   "codemirror_mode": {
    "name": "ipython",
    "version": 3
   },
   "file_extension": ".py",
   "mimetype": "text/x-python",
   "name": "python",
   "nbconvert_exporter": "python",
   "pygments_lexer": "ipython3",
   "version": "3.11.8"
  }
 },
 "nbformat": 4,
 "nbformat_minor": 2
}
